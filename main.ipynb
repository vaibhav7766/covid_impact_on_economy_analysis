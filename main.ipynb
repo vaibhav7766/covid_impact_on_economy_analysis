{
 "cells": [
  {
   "cell_type": "markdown",
   "metadata": {},
   "source": [
    "Click <a href=\"https://github.com/vaibhav7766/covid_impact_on_economy_analysis\">here</a> for our github link<br>\n",
    "Click <a href=\"https://covid-19profoundimpacteconomies.blogspot.com/2023/10/unmasking-economic-disruption-covid-19s.html\">here</a> for our blog link"
   ]
  },
  {
   "cell_type": "markdown",
   "metadata": {},
   "source": [
    "<h1 align=center>Covid impact on global economy analysis</h1>"
   ]
  },
  {
   "cell_type": "markdown",
   "metadata": {},
   "source": [
    "<p align=right>\n",
    "This project is made by<br>\n",
    "Jayaditya Shukla: 22070126109<br>\n",
    "Tejas Thange: 22070126121<br>\n",
    "Vaibhav Sharma: 22070126125\n",
    "</p>"
   ]
  },
  {
   "cell_type": "code",
   "execution_count": 1,
   "metadata": {},
   "outputs": [],
   "source": [
    "import numpy as np\n",
    "import pandas as pd\n",
    "import matplotlib.pyplot as plt\n",
    "import seaborn as sns\n",
    "import warnings\n",
    "warnings.filterwarnings(\"ignore\")\n",
    "import plotly.express as px\n",
    "import pickle as pk\n",
    "from sklearn.model_selection import train_test_split\n",
    "from sklearn.linear_model import LinearRegression\n",
    "from sklearn.gaussian_process import GaussianProcessRegressor\n",
    "from sklearn.gaussian_process.kernels import RBF, ConstantKernel\n",
    "from sklearn.ensemble import RandomForestRegressor\n",
    "from sklearn.impute import KNNImputer\n",
    "from sklearn.metrics import mean_squared_error, r2_score"
   ]
  },
  {
   "cell_type": "code",
   "execution_count": 2,
   "metadata": {},
   "outputs": [
    {
     "data": {
      "text/html": [
       "<div>\n",
       "<style scoped>\n",
       "    .dataframe tbody tr th:only-of-type {\n",
       "        vertical-align: middle;\n",
       "    }\n",
       "\n",
       "    .dataframe tbody tr th {\n",
       "        vertical-align: top;\n",
       "    }\n",
       "\n",
       "    .dataframe thead th {\n",
       "        text-align: right;\n",
       "    }\n",
       "</style>\n",
       "<table border=\"1\" class=\"dataframe\">\n",
       "  <thead>\n",
       "    <tr style=\"text-align: right;\">\n",
       "      <th></th>\n",
       "      <th>Economy</th>\n",
       "      <th>ADB Country Code</th>\n",
       "      <th>Sector</th>\n",
       "      <th>Country 2020 GDP</th>\n",
       "      <th>Scenario</th>\n",
       "      <th>as % of total GDP</th>\n",
       "      <th>in Mn dollars</th>\n",
       "      <th>Employment (in 000)</th>\n",
       "      <th>as % of sector GDP</th>\n",
       "      <th>as % of sector employment</th>\n",
       "    </tr>\n",
       "  </thead>\n",
       "  <tbody>\n",
       "    <tr>\n",
       "      <th>0</th>\n",
       "      <td>Australia</td>\n",
       "      <td>AUS</td>\n",
       "      <td>Agriculture, Mining and Quarrying</td>\n",
       "      <td>1433904.349</td>\n",
       "      <td>Shorter containment, smaller demand shock</td>\n",
       "      <td>-0.33</td>\n",
       "      <td>4,671.70</td>\n",
       "      <td>18</td>\n",
       "      <td>-2.7</td>\n",
       "      <td>-2.65</td>\n",
       "    </tr>\n",
       "    <tr>\n",
       "      <th>1</th>\n",
       "      <td>Australia</td>\n",
       "      <td>AUS</td>\n",
       "      <td>Business, Trade, Personal, and Public Services</td>\n",
       "      <td>1433904.349</td>\n",
       "      <td>Shorter containment, smaller demand shock</td>\n",
       "      <td>-1.41</td>\n",
       "      <td>20,147.01</td>\n",
       "      <td>191</td>\n",
       "      <td>-2.31</td>\n",
       "      <td>-2.29</td>\n",
       "    </tr>\n",
       "    <tr>\n",
       "      <th>2</th>\n",
       "      <td>Australia</td>\n",
       "      <td>AUS</td>\n",
       "      <td>Hotel and restaurants and Other Personal Services</td>\n",
       "      <td>1433904.349</td>\n",
       "      <td>Shorter containment, smaller demand shock</td>\n",
       "      <td>-0.35</td>\n",
       "      <td>5,023.10</td>\n",
       "      <td>112</td>\n",
       "      <td>-6.7</td>\n",
       "      <td>-7.24</td>\n",
       "    </tr>\n",
       "    <tr>\n",
       "      <th>3</th>\n",
       "      <td>Australia</td>\n",
       "      <td>AUS</td>\n",
       "      <td>Light/Heavy Manufacturing, Utilities, and Cons...</td>\n",
       "      <td>1433904.349</td>\n",
       "      <td>Shorter containment, smaller demand shock</td>\n",
       "      <td>-0.39</td>\n",
       "      <td>5,660.89</td>\n",
       "      <td>54</td>\n",
       "      <td>-2.31</td>\n",
       "      <td>-2.29</td>\n",
       "    </tr>\n",
       "    <tr>\n",
       "      <th>4</th>\n",
       "      <td>Australia</td>\n",
       "      <td>AUS</td>\n",
       "      <td>Transport services</td>\n",
       "      <td>1433904.349</td>\n",
       "      <td>Shorter containment, smaller demand shock</td>\n",
       "      <td>-0.3</td>\n",
       "      <td>4,307.48</td>\n",
       "      <td>47</td>\n",
       "      <td>-6.47</td>\n",
       "      <td>-7.22</td>\n",
       "    </tr>\n",
       "  </tbody>\n",
       "</table>\n",
       "</div>"
      ],
      "text/plain": [
       "     Economy ADB Country Code  \\\n",
       "0  Australia              AUS   \n",
       "1  Australia              AUS   \n",
       "2  Australia              AUS   \n",
       "3  Australia              AUS   \n",
       "4  Australia              AUS   \n",
       "\n",
       "                                              Sector  Country 2020 GDP  \\\n",
       "0                  Agriculture, Mining and Quarrying       1433904.349   \n",
       "1     Business, Trade, Personal, and Public Services       1433904.349   \n",
       "2  Hotel and restaurants and Other Personal Services       1433904.349   \n",
       "3  Light/Heavy Manufacturing, Utilities, and Cons...       1433904.349   \n",
       "4                                 Transport services       1433904.349   \n",
       "\n",
       "                                    Scenario as % of total GDP  \\\n",
       "0  Shorter containment, smaller demand shock             -0.33   \n",
       "1  Shorter containment, smaller demand shock             -1.41   \n",
       "2  Shorter containment, smaller demand shock             -0.35   \n",
       "3  Shorter containment, smaller demand shock             -0.39   \n",
       "4  Shorter containment, smaller demand shock              -0.3   \n",
       "\n",
       "   in Mn dollars  Employment (in 000) as % of sector GDP  \\\n",
       "0        4,671.70                  18               -2.7   \n",
       "1       20,147.01                 191              -2.31   \n",
       "2        5,023.10                 112               -6.7   \n",
       "3        5,660.89                  54              -2.31   \n",
       "4        4,307.48                  47              -6.47   \n",
       "\n",
       "  as % of sector employment  \n",
       "0                     -2.65  \n",
       "1                     -2.29  \n",
       "2                     -7.24  \n",
       "3                     -2.29  \n",
       "4                     -7.22  "
      ]
     },
     "execution_count": 2,
     "metadata": {},
     "output_type": "execute_result"
    }
   ],
   "source": [
    "df=pd.read_csv(r\"covid19datasheet_032820.csv\")\n",
    "df.head()"
   ]
  },
  {
   "cell_type": "code",
   "execution_count": 3,
   "metadata": {},
   "outputs": [],
   "source": [
    "df = df.replace(',', '', regex=True)\n",
    "df = df.replace(\"na\",np.nan, regex=True)"
   ]
  },
  {
   "cell_type": "code",
   "execution_count": 4,
   "metadata": {},
   "outputs": [],
   "source": [
    "# Convert the columns to float data type\n",
    "df['as % of total GDP'] = df['as % of total GDP'].astype(float)\n",
    "df[' in Mn dollars '] = df[' in Mn dollars '].astype(float)\n",
    "df['Employment (in 000)'] = df['Employment (in 000)'].astype(float)\n",
    "df['as % of sector GDP'] = df['as % of sector GDP'].astype(float)\n",
    "df['as % of sector employment'] = df['as % of sector employment'].astype(float)"
   ]
  },
  {
   "cell_type": "code",
   "execution_count": 5,
   "metadata": {},
   "outputs": [
    {
     "data": {
      "text/plain": [
       "Economy                      108\n",
       "ADB Country Code               0\n",
       "Sector                       496\n",
       "Country 2020 GDP               0\n",
       "Scenario                     832\n",
       "as % of total GDP            524\n",
       " in Mn dollars               524\n",
       "Employment (in 000)          568\n",
       "as % of sector GDP           524\n",
       "as % of sector employment    568\n",
       "dtype: int64"
      ]
     },
     "execution_count": 5,
     "metadata": {},
     "output_type": "execute_result"
    }
   ],
   "source": [
    "df.isna().sum()"
   ]
  },
  {
   "cell_type": "code",
   "execution_count": 6,
   "metadata": {},
   "outputs": [],
   "source": [
    "imputer = KNNImputer(n_neighbors=10)\n",
    "\n",
    "columns_to_impute = [\"Country 2020 GDP\", \"as % of total GDP\", \" in Mn dollars \", \"Employment (in 000)\", \"as % of sector GDP\", \"as % of sector employment\"]\n",
    "\n",
    "for column in columns_to_impute:\n",
    "    data = df[[column]]\n",
    "\n",
    "    imputed_data = imputer.fit_transform(data)\n",
    "\n",
    "    df[column] = imputed_data\n"
   ]
  },
  {
   "cell_type": "code",
   "execution_count": 7,
   "metadata": {},
   "outputs": [
    {
     "data": {
      "text/html": [
       "<div>\n",
       "<style scoped>\n",
       "    .dataframe tbody tr th:only-of-type {\n",
       "        vertical-align: middle;\n",
       "    }\n",
       "\n",
       "    .dataframe tbody tr th {\n",
       "        vertical-align: top;\n",
       "    }\n",
       "\n",
       "    .dataframe thead th {\n",
       "        text-align: right;\n",
       "    }\n",
       "</style>\n",
       "<table border=\"1\" class=\"dataframe\">\n",
       "  <thead>\n",
       "    <tr style=\"text-align: right;\">\n",
       "      <th></th>\n",
       "      <th>Country 2020 GDP</th>\n",
       "      <th>as % of total GDP</th>\n",
       "      <th>in Mn dollars</th>\n",
       "      <th>Employment (in 000)</th>\n",
       "      <th>as % of sector GDP</th>\n",
       "      <th>as % of sector employment</th>\n",
       "    </tr>\n",
       "  </thead>\n",
       "  <tbody>\n",
       "    <tr>\n",
       "      <th>count</th>\n",
       "      <td>1.576000e+03</td>\n",
       "      <td>1576.000000</td>\n",
       "      <td>1.576000e+03</td>\n",
       "      <td>1576.000000</td>\n",
       "      <td>1576.000000</td>\n",
       "      <td>1576.000000</td>\n",
       "    </tr>\n",
       "    <tr>\n",
       "      <th>mean</th>\n",
       "      <td>1.227601e+06</td>\n",
       "      <td>-1.164696</td>\n",
       "      <td>1.350465e+04</td>\n",
       "      <td>483.345238</td>\n",
       "      <td>-4.261027</td>\n",
       "      <td>-4.268413</td>\n",
       "    </tr>\n",
       "    <tr>\n",
       "      <th>std</th>\n",
       "      <td>3.105474e+06</td>\n",
       "      <td>1.308585</td>\n",
       "      <td>5.346776e+04</td>\n",
       "      <td>2175.454373</td>\n",
       "      <td>4.042801</td>\n",
       "      <td>4.021292</td>\n",
       "    </tr>\n",
       "    <tr>\n",
       "      <th>min</th>\n",
       "      <td>2.534965e+03</td>\n",
       "      <td>-14.170000</td>\n",
       "      <td>4.200000e-01</td>\n",
       "      <td>0.000000</td>\n",
       "      <td>-45.300000</td>\n",
       "      <td>-61.520000</td>\n",
       "    </tr>\n",
       "    <tr>\n",
       "      <th>25%</th>\n",
       "      <td>6.097170e+04</td>\n",
       "      <td>-1.164696</td>\n",
       "      <td>4.709250e+02</td>\n",
       "      <td>21.750000</td>\n",
       "      <td>-4.261027</td>\n",
       "      <td>-4.268413</td>\n",
       "    </tr>\n",
       "    <tr>\n",
       "      <th>50%</th>\n",
       "      <td>3.309103e+05</td>\n",
       "      <td>-1.164696</td>\n",
       "      <td>5.059325e+03</td>\n",
       "      <td>230.500000</td>\n",
       "      <td>-4.261027</td>\n",
       "      <td>-4.268413</td>\n",
       "    </tr>\n",
       "    <tr>\n",
       "      <th>75%</th>\n",
       "      <td>1.042173e+06</td>\n",
       "      <td>-0.330000</td>\n",
       "      <td>1.350465e+04</td>\n",
       "      <td>483.345238</td>\n",
       "      <td>-2.087500</td>\n",
       "      <td>-2.090000</td>\n",
       "    </tr>\n",
       "    <tr>\n",
       "      <th>max</th>\n",
       "      <td>2.054434e+07</td>\n",
       "      <td>0.000000</td>\n",
       "      <td>1.150160e+06</td>\n",
       "      <td>52784.000000</td>\n",
       "      <td>-0.040000</td>\n",
       "      <td>-0.030000</td>\n",
       "    </tr>\n",
       "  </tbody>\n",
       "</table>\n",
       "</div>"
      ],
      "text/plain": [
       "       Country 2020 GDP  as % of total GDP   in Mn dollars   \\\n",
       "count      1.576000e+03        1576.000000     1.576000e+03   \n",
       "mean       1.227601e+06          -1.164696     1.350465e+04   \n",
       "std        3.105474e+06           1.308585     5.346776e+04   \n",
       "min        2.534965e+03         -14.170000     4.200000e-01   \n",
       "25%        6.097170e+04          -1.164696     4.709250e+02   \n",
       "50%        3.309103e+05          -1.164696     5.059325e+03   \n",
       "75%        1.042173e+06          -0.330000     1.350465e+04   \n",
       "max        2.054434e+07           0.000000     1.150160e+06   \n",
       "\n",
       "       Employment (in 000)  as % of sector GDP  as % of sector employment  \n",
       "count          1576.000000         1576.000000                1576.000000  \n",
       "mean            483.345238           -4.261027                  -4.268413  \n",
       "std            2175.454373            4.042801                   4.021292  \n",
       "min               0.000000          -45.300000                 -61.520000  \n",
       "25%              21.750000           -4.261027                  -4.268413  \n",
       "50%             230.500000           -4.261027                  -4.268413  \n",
       "75%             483.345238           -2.087500                  -2.090000  \n",
       "max           52784.000000           -0.040000                  -0.030000  "
      ]
     },
     "execution_count": 7,
     "metadata": {},
     "output_type": "execute_result"
    }
   ],
   "source": [
    "df.describe()"
   ]
  },
  {
   "cell_type": "code",
   "execution_count": 8,
   "metadata": {},
   "outputs": [
    {
     "data": {
      "image/png": "[encoded data removed]",
      "text/plain": [
       "<Figure size 640x480 with 2 Axes>"
      ]
     },
     "metadata": {},
     "output_type": "display_data"
    }
   ],
   "source": [
    "temp=df.select_dtypes(exclude=[\"object\"])\n",
    "sns.heatmap(temp.corr(), annot=True);"
   ]
  },
  {
   "cell_type": "code",
   "execution_count": 9,
   "metadata": {},
   "outputs": [
    {
     "data": {
      "text/plain": [
       "Economy                       object\n",
       "ADB Country Code              object\n",
       "Sector                        object\n",
       "Country 2020 GDP             float64\n",
       "Scenario                      object\n",
       "as % of total GDP            float64\n",
       " in Mn dollars               float64\n",
       "Employment (in 000)          float64\n",
       "as % of sector GDP           float64\n",
       "as % of sector employment    float64\n",
       "dtype: object"
      ]
     },
     "execution_count": 9,
     "metadata": {},
     "output_type": "execute_result"
    }
   ],
   "source": [
    "df.dtypes"
   ]
  },
  {
   "cell_type": "code",
   "execution_count": 10,
   "metadata": {},
   "outputs": [],
   "source": [
    "new_df=pd.DataFrame()"
   ]
  },
  {
   "cell_type": "code",
   "execution_count": 11,
   "metadata": {},
   "outputs": [
    {
     "data": {
      "text/html": [
       "<div>\n",
       "<style scoped>\n",
       "    .dataframe tbody tr th:only-of-type {\n",
       "        vertical-align: middle;\n",
       "    }\n",
       "\n",
       "    .dataframe tbody tr th {\n",
       "        vertical-align: top;\n",
       "    }\n",
       "\n",
       "    .dataframe thead th {\n",
       "        text-align: right;\n",
       "    }\n",
       "</style>\n",
       "<table border=\"1\" class=\"dataframe\">\n",
       "  <thead>\n",
       "    <tr style=\"text-align: right;\">\n",
       "      <th></th>\n",
       "      <th>in Mn dollars</th>\n",
       "      <th>Country 2020 GDP</th>\n",
       "      <th>as % of total GDP</th>\n",
       "      <th>Country 2019 GDP</th>\n",
       "    </tr>\n",
       "    <tr>\n",
       "      <th>ADB Country Code</th>\n",
       "      <th></th>\n",
       "      <th></th>\n",
       "      <th></th>\n",
       "      <th></th>\n",
       "    </tr>\n",
       "  </thead>\n",
       "  <tbody>\n",
       "    <tr>\n",
       "      <th>AUS</th>\n",
       "      <td>4.292743e+05</td>\n",
       "      <td>3.441370e+07</td>\n",
       "      <td>-32.616350</td>\n",
       "      <td>4.563820e+07</td>\n",
       "    </tr>\n",
       "    <tr>\n",
       "      <th>AUT</th>\n",
       "      <td>2.449560e+05</td>\n",
       "      <td>1.092686e+07</td>\n",
       "      <td>-32.176350</td>\n",
       "      <td>1.444272e+07</td>\n",
       "    </tr>\n",
       "    <tr>\n",
       "      <th>BAN</th>\n",
       "      <td>6.530349e+04</td>\n",
       "      <td>7.672699e+06</td>\n",
       "      <td>-16.329392</td>\n",
       "      <td>8.925604e+06</td>\n",
       "    </tr>\n",
       "    <tr>\n",
       "      <th>BEL</th>\n",
       "      <td>2.472835e+05</td>\n",
       "      <td>1.302627e+07</td>\n",
       "      <td>-29.686350</td>\n",
       "      <td>1.689329e+07</td>\n",
       "    </tr>\n",
       "    <tr>\n",
       "      <th>BGR</th>\n",
       "      <td>1.765101e+05</td>\n",
       "      <td>1.563191e+06</td>\n",
       "      <td>-36.176350</td>\n",
       "      <td>2.128696e+06</td>\n",
       "    </tr>\n",
       "    <tr>\n",
       "      <th>...</th>\n",
       "      <td>...</td>\n",
       "      <td>...</td>\n",
       "      <td>...</td>\n",
       "      <td>...</td>\n",
       "    </tr>\n",
       "    <tr>\n",
       "      <th>THA</th>\n",
       "      <td>1.761230e+05</td>\n",
       "      <td>1.413980e+07</td>\n",
       "      <td>-31.859392</td>\n",
       "      <td>1.864465e+07</td>\n",
       "    </tr>\n",
       "    <tr>\n",
       "      <th>TUR</th>\n",
       "      <td>3.296088e+05</td>\n",
       "      <td>1.851241e+07</td>\n",
       "      <td>-35.686350</td>\n",
       "      <td>2.511881e+07</td>\n",
       "    </tr>\n",
       "    <tr>\n",
       "      <th>UKG</th>\n",
       "      <td>6.424676e+05</td>\n",
       "      <td>6.852712e+07</td>\n",
       "      <td>-30.816350</td>\n",
       "      <td>8.964468e+07</td>\n",
       "    </tr>\n",
       "    <tr>\n",
       "      <th>USA</th>\n",
       "      <td>3.352898e+06</td>\n",
       "      <td>4.930642e+08</td>\n",
       "      <td>-29.526350</td>\n",
       "      <td>6.386481e+08</td>\n",
       "    </tr>\n",
       "    <tr>\n",
       "      <th>VIE</th>\n",
       "      <td>7.810107e+04</td>\n",
       "      <td>6.865983e+06</td>\n",
       "      <td>-23.149392</td>\n",
       "      <td>8.455417e+06</td>\n",
       "    </tr>\n",
       "  </tbody>\n",
       "</table>\n",
       "<p>62 rows × 4 columns</p>\n",
       "</div>"
      ],
      "text/plain": [
       "                  in Mn dollars  Country 2020 GDP  as % of total GDP  \\\n",
       "ADB Country Code                                                       \n",
       "AUS                4.292743e+05      3.441370e+07         -32.616350   \n",
       "AUT                2.449560e+05      1.092686e+07         -32.176350   \n",
       "BAN                6.530349e+04      7.672699e+06         -16.329392   \n",
       "BEL                2.472835e+05      1.302627e+07         -29.686350   \n",
       "BGR                1.765101e+05      1.563191e+06         -36.176350   \n",
       "...                         ...               ...                ...   \n",
       "THA                1.761230e+05      1.413980e+07         -31.859392   \n",
       "TUR                3.296088e+05      1.851241e+07         -35.686350   \n",
       "UKG                6.424676e+05      6.852712e+07         -30.816350   \n",
       "USA                3.352898e+06      4.930642e+08         -29.526350   \n",
       "VIE                7.810107e+04      6.865983e+06         -23.149392   \n",
       "\n",
       "                  Country 2019 GDP  \n",
       "ADB Country Code                    \n",
       "AUS                   4.563820e+07  \n",
       "AUT                   1.444272e+07  \n",
       "BAN                   8.925604e+06  \n",
       "BEL                   1.689329e+07  \n",
       "BGR                   2.128696e+06  \n",
       "...                            ...  \n",
       "THA                   1.864465e+07  \n",
       "TUR                   2.511881e+07  \n",
       "UKG                   8.964468e+07  \n",
       "USA                   6.386481e+08  \n",
       "VIE                   8.455417e+06  \n",
       "\n",
       "[62 rows x 4 columns]"
      ]
     },
     "execution_count": 11,
     "metadata": {},
     "output_type": "execute_result"
    }
   ],
   "source": [
    "new_df[\"in Mn dollars\"]=df.groupby(\"ADB Country Code\")[\" in Mn dollars \"].sum()\n",
    "new_df[\"Country 2020 GDP\"]=df.groupby(\"ADB Country Code\")[\"Country 2020 GDP\"].sum()\n",
    "new_df[\"as % of total GDP\"]=df.groupby(\"ADB Country Code\")[\"as % of total GDP\"].sum()\n",
    "new_df[\"Country 2019 GDP\"]=(((new_df[\"as % of total GDP\"]*(-1))*new_df[\"Country 2020 GDP\"])/100)+new_df[\"Country 2020 GDP\"]\n",
    "new_df"
   ]
  },
  {
   "cell_type": "code",
   "execution_count": 12,
   "metadata": {},
   "outputs": [
    {
     "data": {
      "application/vnd.plotly.v1+json": {
       "config": {
        "plotlyServerURL": "https://plot.ly"
       },
       "data": [
        {
         "hovertemplate": "variable=Country 2020 GDP<br>ADB Country Code=%{x}<br>value=%{y}<extra></extra>",
         "legendgroup": "Country 2020 GDP",
         "line": {
          "color": "#636efa",
          "dash": "solid"
         },
         "marker": {
          "symbol": "circle"
         },
         "mode": "lines",
         "name": "Country 2020 GDP",
         "orientation": "v",
         "showlegend": true,
         "type": "scatter",
         "x": [
          "AUS",
          "AUT",
          "BAN",
          "BEL",
          "BGR",
          "BHU",
          "BRA",
          "BRU",
          "CAM",
          "CAN",
          "CYP",
          "CZE",
          "DEN",
          "EST",
          "FIJ",
          "FIN",
          "FRA",
          "GER",
          "GRC",
          "HKG",
          "HRV",
          "HUN",
          "IND",
          "INO",
          "IRE",
          "ITA",
          "JPN",
          "KAZ",
          "KGZ",
          "KOR",
          "LAO",
          "LTU",
          "LUX",
          "LVA",
          "MAL",
          "MEX",
          "MLD",
          "MLT",
          "MON",
          "NEP",
          "NET",
          "NOR",
          "PAK",
          "PHI",
          "POL",
          "POR",
          "PRC",
          "ROM",
          "RUS",
          "SIN",
          "SPA",
          "SRI",
          "SVK",
          "SVN",
          "SWE",
          "SWI",
          "TAP",
          "THA",
          "TUR",
          "UKG",
          "USA",
          "VIE"
         ],
         "xaxis": "x",
         "y": [
          34413704.376,
          10926859.632000001,
          7672698.851999999,
          13026266.2104,
          1563190.82688,
          70979.02456399999,
          44847026.112,
          379885.83304,
          687189.27368,
          41120200.92,
          599087.72784,
          5885421.1896,
          8536207.8984,
          737571.46872,
          155029.270452,
          6641834.892000001,
          66660845.736,
          94742883.912,
          5232764.270400001,
          10155096.5096,
          1463320.7836799999,
          3789189.9072,
          76124502.46800001,
          29180852.428,
          9179699.772,
          50012742.24,
          119311753.92,
          5021519.8571999995,
          226599.425052,
          45343863.628,
          502706.01976,
          1282297.59432,
          1701247.82112,
          825821.5003200001,
          10040294.415199999,
          29296787.52,
          127858.9716,
          349282.15032,
          365868.97592,
          696969.5755200001,
          21927803.176799998,
          10419998.7696,
          8808469.894,
          9265489.6208,
          14055931.555200001,
          5776188.5879999995,
          381028252.08,
          5749260.4008,
          39781311.528000005,
          10196386.418399999,
          34057006.8,
          2489221.58408,
          2541711.1728,
          1296191.33064,
          13346075.7336,
          16923368.5008,
          17029208,
          14139797.2156,
          18512407.932,
          68527121.56799999,
          493064243.04,
          6865983.2192
         ],
         "yaxis": "y"
        },
        {
         "hovertemplate": "variable=Country 2019 GDP<br>ADB Country Code=%{x}<br>value=%{y}<extra></extra>",
         "legendgroup": "Country 2019 GDP",
         "line": {
          "color": "#EF553B",
          "dash": "solid"
         },
         "marker": {
          "symbol": "circle"
         },
         "mode": "lines",
         "name": "Country 2019 GDP",
         "orientation": "v",
         "showlegend": true,
         "type": "scatter",
         "x": [
          "AUS",
          "AUT",
          "BAN",
          "BEL",
          "BGR",
          "BHU",
          "BRA",
          "BRU",
          "CAM",
          "CAN",
          "CYP",
          "CZE",
          "DEN",
          "EST",
          "FIJ",
          "FIN",
          "FRA",
          "GER",
          "GRC",
          "HKG",
          "HRV",
          "HUN",
          "IND",
          "INO",
          "IRE",
          "ITA",
          "JPN",
          "KAZ",
          "KGZ",
          "KOR",
          "LAO",
          "LTU",
          "LUX",
          "LVA",
          "MAL",
          "MEX",
          "MLD",
          "MLT",
          "MON",
          "NEP",
          "NET",
          "NOR",
          "PAK",
          "PHI",
          "POL",
          "POR",
          "PRC",
          "ROM",
          "RUS",
          "SIN",
          "SPA",
          "SRI",
          "SVK",
          "SVN",
          "SWE",
          "SWI",
          "TAP",
          "THA",
          "TUR",
          "UKG",
          "USA",
          "VIE"
         ],
         "xaxis": "x",
         "y": [
          45638198.57781619,
          14442724.210427538,
          8925603.89651577,
          16893289.164786316,
          2128696.2086081575,
          83272.15980692851,
          58783844.82589601,
          449744.5266435356,
          993327.9144852846,
          53837178.09904714,
          871650.7761661836,
          7733228.614071966,
          11003714.014010616,
          971575.9729840206,
          228264.15466967414,
          8716501.67266018,
          87069963.45276219,
          122963330.73400246,
          7218930.58159975,
          12488675.907451268,
          1978795.2817798809,
          5070555.621179644,
          89103267.0239501,
          34637494.30593757,
          11868098.758725222,
          65604889.71025898,
          154003256.8540895,
          6080527.845913245,
          280891.2687428239,
          63175674.19946033,
          608170.6844180753,
          1678608.974424291,
          2214452.1899721217,
          1133822.7758845957,
          12073392.95263897,
          34405077.87504621,
          192772.97148132,
          473613.84637139883,
          453967.99950267107,
          806324.101919088,
          28553584.890325166,
          13495602.056620946,
          10382489.876408255,
          11203773.681473667,
          19559721.283992253,
          7754899.95638399,
          554036955.0513406,
          7420935.466417858,
          47517324.52669536,
          12257014.082310466,
          45706665.680784635,
          3252650.7003639727,
          3322686.238911482,
          1698092.9488236536,
          17413472.460064236,
          22048839.084568333,
          20881111.249855515,
          18644650.586910143,
          25118810.58484659,
          89644679.06504065,
          638648116.2274566,
          8455416.564204684
         ],
         "yaxis": "y"
        }
       ],
       "layout": {
        "legend": {
         "title": {
          "text": "variable"
         },
         "tracegroupgap": 0
        },
        "margin": {
         "t": 60
        },
        "template": {
         "data": {
          "bar": [
           {
            "error_x": {
             "color": "#2a3f5f"
            },
            "error_y": {
             "color": "#2a3f5f"
            },
            "marker": {
             "line": {
              "color": "#E5ECF6",
              "width": 0.5
             },
             "pattern": {
              "fillmode": "overlay",
              "size": 10,
              "solidity": 0.2
             }
            },
            "type": "bar"
           }
          ],
          "barpolar": [
           {
            "marker": {
             "line": {
              "color": "#E5ECF6",
              "width": 0.5
             },
             "pattern": {
              "fillmode": "overlay",
              "size": 10,
              "solidity": 0.2
             }
            },
            "type": "barpolar"
           }
          ],
          "carpet": [
           {
            "aaxis": {
             "endlinecolor": "#2a3f5f",
             "gridcolor": "white",
             "linecolor": "white",
             "minorgridcolor": "white",
             "startlinecolor": "#2a3f5f"
            },
            "baxis": {
             "endlinecolor": "#2a3f5f",
             "gridcolor": "white",
             "linecolor": "white",
             "minorgridcolor": "white",
             "startlinecolor": "#2a3f5f"
            },
            "type": "carpet"
           }
          ],
          "choropleth": [
           {
            "colorbar": {
             "outlinewidth": 0,
             "ticks": ""
            },
            "type": "choropleth"
           }
          ],
          "contour": [
           {
            "colorbar": {
             "outlinewidth": 0,
             "ticks": ""
            },
            "colorscale": [
             [
              0,
              "#0d0887"
             ],
             [
              0.1111111111111111,
              "#46039f"
             ],
             [
              0.2222222222222222,
              "#7201a8"
             ],
             [
              0.3333333333333333,
              "#9c179e"
             ],
             [
              0.4444444444444444,
              "#bd3786"
             ],
             [
              0.5555555555555556,
              "#d8576b"
             ],
             [
              0.6666666666666666,
              "#ed7953"
             ],
             [
              0.7777777777777778,
              "#fb9f3a"
             ],
             [
              0.8888888888888888,
              "#fdca26"
             ],
             [
              1,
              "#f0f921"
             ]
            ],
            "type": "contour"
           }
          ],
          "contourcarpet": [
           {
            "colorbar": {
             "outlinewidth": 0,
             "ticks": ""
            },
            "type": "contourcarpet"
           }
          ],
          "heatmap": [
           {
            "colorbar": {
             "outlinewidth": 0,
             "ticks": ""
            },
            "colorscale": [
             [
              0,
              "#0d0887"
             ],
             [
              0.1111111111111111,
              "#46039f"
             ],
             [
              0.2222222222222222,
              "#7201a8"
             ],
             [
              0.3333333333333333,
              "#9c179e"
             ],
             [
              0.4444444444444444,
              "#bd3786"
             ],
             [
              0.5555555555555556,
              "#d8576b"
             ],
             [
              0.6666666666666666,
              "#ed7953"
             ],
             [
              0.7777777777777778,
              "#fb9f3a"
             ],
             [
              0.8888888888888888,
              "#fdca26"
             ],
             [
              1,
              "#f0f921"
             ]
            ],
            "type": "heatmap"
           }
          ],
          "heatmapgl": [
           {
            "colorbar": {
             "outlinewidth": 0,
             "ticks": ""
            },
            "colorscale": [
             [
              0,
              "#0d0887"
             ],
             [
              0.1111111111111111,
              "#46039f"
             ],
             [
              0.2222222222222222,
              "#7201a8"
             ],
             [
              0.3333333333333333,
              "#9c179e"
             ],
             [
              0.4444444444444444,
              "#bd3786"
             ],
             [
              0.5555555555555556,
              "#d8576b"
             ],
             [
              0.6666666666666666,
              "#ed7953"
             ],
             [
              0.7777777777777778,
              "#fb9f3a"
             ],
             [
              0.8888888888888888,
              "#fdca26"
             ],
             [
              1,
              "#f0f921"
             ]
            ],
            "type": "heatmapgl"
           }
          ],
          "histogram": [
           {
            "marker": {
             "pattern": {
              "fillmode": "overlay",
              "size": 10,
              "solidity": 0.2
             }
            },
            "type": "histogram"
           }
          ],
          "histogram2d": [
           {
            "colorbar": {
             "outlinewidth": 0,
             "ticks": ""
            },
            "colorscale": [
             [
              0,
              "#0d0887"
             ],
             [
              0.1111111111111111,
              "#46039f"
             ],
             [
              0.2222222222222222,
              "#7201a8"
             ],
             [
              0.3333333333333333,
              "#9c179e"
             ],
             [
              0.4444444444444444,
              "#bd3786"
             ],
             [
              0.5555555555555556,
              "#d8576b"
             ],
             [
              0.6666666666666666,
              "#ed7953"
             ],
             [
              0.7777777777777778,
              "#fb9f3a"
             ],
             [
              0.8888888888888888,
              "#fdca26"
             ],
             [
              1,
              "#f0f921"
             ]
            ],
            "type": "histogram2d"
           }
          ],
          "histogram2dcontour": [
           {
            "colorbar": {
             "outlinewidth": 0,
             "ticks": ""
            },
            "colorscale": [
             [
              0,
              "#0d0887"
             ],
             [
              0.1111111111111111,
              "#46039f"
             ],
             [
              0.2222222222222222,
              "#7201a8"
             ],
             [
              0.3333333333333333,
              "#9c179e"
             ],
             [
              0.4444444444444444,
              "#bd3786"
             ],
             [
              0.5555555555555556,
              "#d8576b"
             ],
             [
              0.6666666666666666,
              "#ed7953"
             ],
             [
              0.7777777777777778,
              "#fb9f3a"
             ],
             [
              0.8888888888888888,
              "#fdca26"
             ],
             [
              1,
              "#f0f921"
             ]
            ],
            "type": "histogram2dcontour"
           }
          ],
          "mesh3d": [
           {
            "colorbar": {
             "outlinewidth": 0,
             "ticks": ""
            },
            "type": "mesh3d"
           }
          ],
          "parcoords": [
           {
            "line": {
             "colorbar": {
              "outlinewidth": 0,
              "ticks": ""
             }
            },
            "type": "parcoords"
           }
          ],
          "pie": [
           {
            "automargin": true,
            "type": "pie"
           }
          ],
          "scatter": [
           {
            "fillpattern": {
             "fillmode": "overlay",
             "size": 10,
             "solidity": 0.2
            },
            "type": "scatter"
           }
          ],
          "scatter3d": [
           {
            "line": {
             "colorbar": {
              "outlinewidth": 0,
              "ticks": ""
             }
            },
            "marker": {
             "colorbar": {
              "outlinewidth": 0,
              "ticks": ""
             }
            },
            "type": "scatter3d"
           }
          ],
          "scattercarpet": [
           {
            "marker": {
             "colorbar": {
              "outlinewidth": 0,
              "ticks": ""
             }
            },
            "type": "scattercarpet"
           }
          ],
          "scattergeo": [
           {
            "marker": {
             "colorbar": {
              "outlinewidth": 0,
              "ticks": ""
             }
            },
            "type": "scattergeo"
           }
          ],
          "scattergl": [
           {
            "marker": {
             "colorbar": {
              "outlinewidth": 0,
              "ticks": ""
             }
            },
            "type": "scattergl"
           }
          ],
          "scattermapbox": [
           {
            "marker": {
             "colorbar": {
              "outlinewidth": 0,
              "ticks": ""
             }
            },
            "type": "scattermapbox"
           }
          ],
          "scatterpolar": [
           {
            "marker": {
             "colorbar": {
              "outlinewidth": 0,
              "ticks": ""
             }
            },
            "type": "scatterpolar"
           }
          ],
          "scatterpolargl": [
           {
            "marker": {
             "colorbar": {
              "outlinewidth": 0,
              "ticks": ""
             }
            },
            "type": "scatterpolargl"
           }
          ],
          "scatterternary": [
           {
            "marker": {
             "colorbar": {
              "outlinewidth": 0,
              "ticks": ""
             }
            },
            "type": "scatterternary"
           }
          ],
          "surface": [
           {
            "colorbar": {
             "outlinewidth": 0,
             "ticks": ""
            },
            "colorscale": [
             [
              0,
              "#0d0887"
             ],
             [
              0.1111111111111111,
              "#46039f"
             ],
             [
              0.2222222222222222,
              "#7201a8"
             ],
             [
              0.3333333333333333,
              "#9c179e"
             ],
             [
              0.4444444444444444,
              "#bd3786"
             ],
             [
              0.5555555555555556,
              "#d8576b"
             ],
             [
              0.6666666666666666,
              "#ed7953"
             ],
             [
              0.7777777777777778,
              "#fb9f3a"
             ],
             [
              0.8888888888888888,
              "#fdca26"
             ],
             [
              1,
              "#f0f921"
             ]
            ],
            "type": "surface"
           }
          ],
          "table": [
           {
            "cells": {
             "fill": {
              "color": "#EBF0F8"
             },
             "line": {
              "color": "white"
             }
            },
            "header": {
             "fill": {
              "color": "#C8D4E3"
             },
             "line": {
              "color": "white"
             }
            },
            "type": "table"
           }
          ]
         },
         "layout": {
          "annotationdefaults": {
           "arrowcolor": "#2a3f5f",
           "arrowhead": 0,
           "arrowwidth": 1
          },
          "autotypenumbers": "strict",
          "coloraxis": {
           "colorbar": {
            "outlinewidth": 0,
            "ticks": ""
           }
          },
          "colorscale": {
           "diverging": [
            [
             0,
             "#8e0152"
            ],
            [
             0.1,
             "#c51b7d"
            ],
            [
             0.2,
             "#de77ae"
            ],
            [
             0.3,
             "#f1b6da"
            ],
            [
             0.4,
             "#fde0ef"
            ],
            [
             0.5,
             "#f7f7f7"
            ],
            [
             0.6,
             "#e6f5d0"
            ],
            [
             0.7,
             "#b8e186"
            ],
            [
             0.8,
             "#7fbc41"
            ],
            [
             0.9,
             "#4d9221"
            ],
            [
             1,
             "#276419"
            ]
           ],
           "sequential": [
            [
             0,
             "#0d0887"
            ],
            [
             0.1111111111111111,
             "#46039f"
            ],
            [
             0.2222222222222222,
             "#7201a8"
            ],
            [
             0.3333333333333333,
             "#9c179e"
            ],
            [
             0.4444444444444444,
             "#bd3786"
            ],
            [
             0.5555555555555556,
             "#d8576b"
            ],
            [
             0.6666666666666666,
             "#ed7953"
            ],
            [
             0.7777777777777778,
             "#fb9f3a"
            ],
            [
             0.8888888888888888,
             "#fdca26"
            ],
            [
             1,
             "#f0f921"
            ]
           ],
           "sequentialminus": [
            [
             0,
             "#0d0887"
            ],
            [
             0.1111111111111111,
             "#46039f"
            ],
            [
             0.2222222222222222,
             "#7201a8"
            ],
            [
             0.3333333333333333,
             "#9c179e"
            ],
            [
             0.4444444444444444,
             "#bd3786"
            ],
            [
             0.5555555555555556,
             "#d8576b"
            ],
            [
             0.6666666666666666,
             "#ed7953"
            ],
            [
             0.7777777777777778,
             "#fb9f3a"
            ],
            [
             0.8888888888888888,
             "#fdca26"
            ],
            [
             1,
             "#f0f921"
            ]
           ]
          },
          "colorway": [
           "#636efa",
           "#EF553B",
           "#00cc96",
           "#ab63fa",
           "#FFA15A",
           "#19d3f3",
           "#FF6692",
           "#B6E880",
           "#FF97FF",
           "#FECB52"
          ],
          "font": {
           "color": "#2a3f5f"
          },
          "geo": {
           "bgcolor": "white",
           "lakecolor": "white",
           "landcolor": "#E5ECF6",
           "showlakes": true,
           "showland": true,
           "subunitcolor": "white"
          },
          "hoverlabel": {
           "align": "left"
          },
          "hovermode": "closest",
          "mapbox": {
           "style": "light"
          },
          "paper_bgcolor": "white",
          "plot_bgcolor": "#E5ECF6",
          "polar": {
           "angularaxis": {
            "gridcolor": "white",
            "linecolor": "white",
            "ticks": ""
           },
           "bgcolor": "#E5ECF6",
           "radialaxis": {
            "gridcolor": "white",
            "linecolor": "white",
            "ticks": ""
           }
          },
          "scene": {
           "xaxis": {
            "backgroundcolor": "#E5ECF6",
            "gridcolor": "white",
            "gridwidth": 2,
            "linecolor": "white",
            "showbackground": true,
            "ticks": "",
            "zerolinecolor": "white"
           },
           "yaxis": {
            "backgroundcolor": "#E5ECF6",
            "gridcolor": "white",
            "gridwidth": 2,
            "linecolor": "white",
            "showbackground": true,
            "ticks": "",
            "zerolinecolor": "white"
           },
           "zaxis": {
            "backgroundcolor": "#E5ECF6",
            "gridcolor": "white",
            "gridwidth": 2,
            "linecolor": "white",
            "showbackground": true,
            "ticks": "",
            "zerolinecolor": "white"
           }
          },
          "shapedefaults": {
           "line": {
            "color": "#2a3f5f"
           }
          },
          "ternary": {
           "aaxis": {
            "gridcolor": "white",
            "linecolor": "white",
            "ticks": ""
           },
           "baxis": {
            "gridcolor": "white",
            "linecolor": "white",
            "ticks": ""
           },
           "bgcolor": "#E5ECF6",
           "caxis": {
            "gridcolor": "white",
            "linecolor": "white",
            "ticks": ""
           }
          },
          "title": {
           "x": 0.05
          },
          "xaxis": {
           "automargin": true,
           "gridcolor": "white",
           "linecolor": "white",
           "ticks": "",
           "title": {
            "standoff": 15
           },
           "zerolinecolor": "white",
           "zerolinewidth": 2
          },
          "yaxis": {
           "automargin": true,
           "gridcolor": "white",
           "linecolor": "white",
           "ticks": "",
           "title": {
            "standoff": 15
           },
           "zerolinecolor": "white",
           "zerolinewidth": 2
          }
         }
        },
        "title": {
         "text": "GDP Comparison for Countries",
         "x": 0.5,
         "y": 0.95
        },
        "xaxis": {
         "anchor": "y",
         "domain": [
          0,
          1
         ],
         "title": {
          "text": "Countries"
         }
        },
        "yaxis": {
         "anchor": "x",
         "domain": [
          0,
          1
         ],
         "title": {
          "text": "GDP(in $ million)"
         }
        }
       }
      }
     },
     "metadata": {},
     "output_type": "display_data"
    }
   ],
   "source": [
    "fig = px.line(new_df[[\"Country 2020 GDP\",\"Country 2019 GDP\"]])\n",
    "fig.update_layout(\n",
    "    title=\"GDP Comparison for Countries\",\n",
    "    title_x=0.5,\n",
    "    title_y=0.95\n",
    ")\n",
    "fig.update_xaxes(title_text=\"Countries\")\n",
    "fig.update_yaxes(title_text=\"GDP(in $ million)\")\n",
    "fig.show()"
   ]
  },
  {
   "cell_type": "code",
   "execution_count": 13,
   "metadata": {},
   "outputs": [
    {
     "data": {
      "application/vnd.plotly.v1+json": {
       "config": {
        "plotlyServerURL": "https://plot.ly"
       },
       "data": [
        {
         "alignmentgroup": "True",
         "bingroup": "x",
         "hovertemplate": "Country 2020 GDP=%{x}<br>count=%{y}<extra></extra>",
         "legendgroup": "",
         "marker": {
          "color": "#636efa",
          "pattern": {
           "shape": ""
          }
         },
         "name": "",
         "nbinsx": 20,
         "offsetgroup": "",
         "orientation": "v",
         "showlegend": false,
         "type": "histogram",
         "x": [
          1433904.349,
          1433904.349,
          1433904.349,
          1433904.349,
          1433904.349,
          1433904.349,
          455285.818,
          455285.818,
          455285.818,
          455285.818,
          455285.818,
          455285.818,
          542761.0921,
          542761.0921,
          542761.0921,
          542761.0921,
          542761.0921,
          542761.0921,
          65132.95112,
          65132.95112,
          65132.95112,
          65132.95112,
          65132.95112,
          65132.95112,
          1868626.088,
          1868626.088,
          1868626.088,
          1868626.088,
          1868626.088,
          1868626.088,
          1713341.705,
          1713341.705,
          1713341.705,
          1713341.705,
          1713341.705,
          1713341.705,
          705140.3542,
          705140.3542,
          705140.3542,
          705140.3542,
          705140.3542,
          705140.3542,
          13608151.86,
          13608151.86,
          13608151.86,
          13608151.86,
          13608151.86,
          13608151.86,
          24961.98866,
          24961.98866,
          24961.98866,
          24961.98866,
          24961.98866,
          24961.98866,
          245225.8829,
          245225.8829,
          245225.8829,
          245225.8829,
          245225.8829,
          245225.8829,
          3947620.163,
          3947620.163,
          3947620.163,
          3947620.163,
          3947620.163,
          3947620.163,
          355675.3291,
          355675.3291,
          355675.3291,
          355675.3291,
          355675.3291,
          355675.3291,
          1419041.95,
          1419041.95,
          1419041.95,
          1419041.95,
          1419041.95,
          1419041.95,
          30732.14453,
          30732.14453,
          30732.14453,
          30732.14453,
          30732.14453,
          30732.14453,
          276743.1205,
          276743.1205,
          276743.1205,
          276743.1205,
          276743.1205,
          276743.1205,
          2777535.239,
          2777535.239,
          2777535.239,
          2777535.239,
          2777535.239,
          2777535.239,
          2855296.732,
          2855296.732,
          2855296.732,
          2855296.732,
          2855296.732,
          2855296.732,
          218031.8446,
          218031.8446,
          218031.8446,
          218031.8446,
          218031.8446,
          218031.8446,
          60971.69932,
          60971.69932,
          60971.69932,
          60971.69932,
          60971.69932,
          60971.69932,
          157882.9128,
          157882.9128,
          157882.9128,
          157882.9128,
          157882.9128,
          157882.9128,
          1042173.301,
          1042173.301,
          1042173.301,
          1042173.301,
          1042173.301,
          1042173.301,
          2718732.231,
          2718732.231,
          2718732.231,
          2718732.231,
          2718732.231,
          2718732.231,
          382487.4905,
          382487.4905,
          382487.4905,
          382487.4905,
          382487.4905,
          382487.4905,
          2083864.26,
          2083864.26,
          2083864.26,
          2083864.26,
          2083864.26,
          2083864.26,
          4971323.08,
          4971323.08,
          4971323.08,
          4971323.08,
          4971323.08,
          4971323.08,
          1619423.701,
          1619423.701,
          1619423.701,
          1619423.701,
          1619423.701,
          1619423.701,
          53429.06643,
          53429.06643,
          53429.06643,
          53429.06643,
          53429.06643,
          53429.06643,
          70885.32588,
          70885.32588,
          70885.32588,
          70885.32588,
          70885.32588,
          70885.32588,
          34409.22918,
          34409.22918,
          34409.22918,
          34409.22918,
          34409.22918,
          34409.22918,
          1220699.48,
          1220699.48,
          1220699.48,
          1220699.48,
          1220699.48,
          1220699.48,
          14553.42293,
          14553.42293,
          14553.42293,
          14553.42293,
          14553.42293,
          14553.42293,
          913658.4657,
          913658.4657,
          913658.4657,
          913658.4657,
          913658.4657,
          913658.4657,
          434166.6154,
          434166.6154,
          434166.6154,
          434166.6154,
          434166.6154,
          434166.6154,
          585663.8148,
          585663.8148,
          585663.8148,
          585663.8148,
          585663.8148,
          585663.8148,
          240674.5245,
          240674.5245,
          240674.5245,
          240674.5245,
          240674.5245,
          240674.5245,
          239552.5167,
          239552.5167,
          239552.5167,
          239552.5167,
          239552.5167,
          239552.5167,
          1657554.647,
          1657554.647,
          1657554.647,
          1657554.647,
          1657554.647,
          1657554.647,
          105904.6322,
          105904.6322,
          105904.6322,
          105904.6322,
          105904.6322,
          105904.6322,
          54007.97211,
          54007.97211,
          54007.97211,
          54007.97211,
          54007.97211,
          54007.97211,
          556086.4889,
          556086.4889,
          556086.4889,
          556086.4889,
          556086.4889,
          556086.4889,
          771350.3305,
          771350.3305,
          771350.3305,
          771350.3305,
          771350.3305,
          771350.3305,
          608186,
          608186,
          608186,
          608186,
          608186,
          608186,
          20544343.46,
          20544343.46,
          20544343.46,
          20544343.46,
          20544343.46,
          20544343.46,
          274024.959,
          274024.959,
          274024.959,
          274024.959,
          274024.959,
          274024.959,
          358581.9434,
          358581.9434,
          358581.9434,
          358581.9434,
          358581.9434,
          358581.9434,
          330910.3436,
          330910.3436,
          330910.3436,
          330910.3436,
          330910.3436,
          330910.3436,
          504992.7577,
          504992.7577,
          504992.7577,
          504992.7577,
          504992.7577,
          504992.7577,
          245213.6864,
          245213.6864,
          245213.6864,
          245213.6864,
          245213.6864,
          245213.6864,
          179339.9949,
          179339.9949,
          179339.9949,
          179339.9949,
          179339.9949,
          179339.9949,
          13066.74914,
          13066.74914,
          13066.74914,
          13066.74914,
          13066.74914,
          13066.74914,
          88900.77086,
          88900.77086,
          88900.77086,
          88900.77086,
          88900.77086,
          88900.77086,
          314588.2105,
          314588.2105,
          314588.2105,
          314588.2105,
          314588.2105,
          314588.2105,
          5536.759659,
          5536.759659,
          5536.759659,
          5536.759659,
          5536.759659,
          5536.759659,
          17953.78642,
          17953.78642,
          17953.78642,
          17953.78642,
          17953.78642,
          17953.78642,
          13567.35118,
          13567.35118,
          13567.35118,
          13567.35118,
          13567.35118,
          13567.35118,
          2534.965163,
          2534.965163,
          2534.965163,
          2534.965163,
          2534.965163,
          2534.965163,
          8092.836609,
          8092.836609,
          8092.836609,
          8092.836609,
          8092.836609,
          8092.836609,
          24542.47406,
          24542.47406,
          24542.47406,
          24542.47406,
          24542.47406,
          24542.47406,
          5327.45715,
          5327.45715,
          5327.45715,
          5327.45715,
          5327.45715,
          5327.45715,
          29040.39898,
          29040.39898,
          29040.39898,
          29040.39898,
          29040.39898,
          29040.39898,
          364156.6578,
          364156.6578,
          364156.6578,
          364156.6578,
          364156.6578,
          364156.6578,
          362682.0182,
          362682.0182,
          362682.0182,
          362682.0182,
          362682.0182,
          362682.0182,
          1433904.349,
          1433904.349,
          1433904.349,
          1433904.349,
          1433904.349,
          1433904.349,
          455285.818,
          455285.818,
          455285.818,
          455285.818,
          455285.818,
          455285.818,
          542761.0921,
          542761.0921,
          542761.0921,
          542761.0921,
          542761.0921,
          542761.0921,
          65132.95112,
          65132.95112,
          65132.95112,
          65132.95112,
          65132.95112,
          65132.95112,
          1868626.088,
          1868626.088,
          1868626.088,
          1868626.088,
          1868626.088,
          1868626.088,
          1713341.705,
          1713341.705,
          1713341.705,
          1713341.705,
          1713341.705,
          1713341.705,
          705140.3542,
          705140.3542,
          705140.3542,
          705140.3542,
          705140.3542,
          705140.3542,
          13608151.86,
          13608151.86,
          13608151.86,
          13608151.86,
          13608151.86,
          13608151.86,
          24961.98866,
          24961.98866,
          24961.98866,
          24961.98866,
          24961.98866,
          24961.98866,
          245225.8829,
          245225.8829,
          245225.8829,
          245225.8829,
          245225.8829,
          245225.8829,
          3947620.163,
          3947620.163,
          3947620.163,
          3947620.163,
          3947620.163,
          3947620.163,
          355675.3291,
          355675.3291,
          355675.3291,
          355675.3291,
          355675.3291,
          355675.3291,
          1419041.95,
          1419041.95,
          1419041.95,
          1419041.95,
          1419041.95,
          1419041.95,
          30732.14453,
          30732.14453,
          30732.14453,
          30732.14453,
          30732.14453,
          30732.14453,
          276743.1205,
          276743.1205,
          276743.1205,
          276743.1205,
          276743.1205,
          276743.1205,
          2777535.239,
          2777535.239,
          2777535.239,
          2777535.239,
          2777535.239,
          2777535.239,
          2855296.732,
          2855296.732,
          2855296.732,
          2855296.732,
          2855296.732,
          2855296.732,
          218031.8446,
          218031.8446,
          218031.8446,
          218031.8446,
          218031.8446,
          218031.8446,
          60971.69932,
          60971.69932,
          60971.69932,
          60971.69932,
          60971.69932,
          60971.69932,
          157882.9128,
          157882.9128,
          157882.9128,
          157882.9128,
          157882.9128,
          157882.9128,
          1042173.301,
          1042173.301,
          1042173.301,
          1042173.301,
          1042173.301,
          1042173.301,
          2718732.231,
          2718732.231,
          2718732.231,
          2718732.231,
          2718732.231,
          2718732.231,
          382487.4905,
          382487.4905,
          382487.4905,
          382487.4905,
          382487.4905,
          382487.4905,
          2083864.26,
          2083864.26,
          2083864.26,
          2083864.26,
          2083864.26,
          2083864.26,
          4971323.08,
          4971323.08,
          4971323.08,
          4971323.08,
          4971323.08,
          4971323.08,
          1619423.701,
          1619423.701,
          1619423.701,
          1619423.701,
          1619423.701,
          1619423.701,
          53429.06643,
          53429.06643,
          53429.06643,
          53429.06643,
          53429.06643,
          53429.06643,
          70885.32588,
          70885.32588,
          70885.32588,
          70885.32588,
          70885.32588,
          70885.32588,
          34409.22918,
          34409.22918,
          34409.22918,
          34409.22918,
          34409.22918,
          34409.22918,
          1220699.48,
          1220699.48,
          1220699.48,
          1220699.48,
          1220699.48,
          1220699.48,
          14553.42293,
          14553.42293,
          14553.42293,
          14553.42293,
          14553.42293,
          14553.42293,
          913658.4657,
          913658.4657,
          913658.4657,
          913658.4657,
          913658.4657,
          913658.4657,
          434166.6154,
          434166.6154,
          434166.6154,
          434166.6154,
          434166.6154,
          434166.6154,
          585663.8148,
          585663.8148,
          585663.8148,
          585663.8148,
          585663.8148,
          585663.8148,
          240674.5245,
          240674.5245,
          240674.5245,
          240674.5245,
          240674.5245,
          240674.5245,
          239552.5167,
          239552.5167,
          239552.5167,
          239552.5167,
          239552.5167,
          239552.5167,
          1657554.647,
          1657554.647,
          1657554.647,
          1657554.647,
          1657554.647,
          1657554.647,
          105904.6322,
          105904.6322,
          105904.6322,
          105904.6322,
          105904.6322,
          105904.6322,
          54007.97211,
          54007.97211,
          54007.97211,
          54007.97211,
          54007.97211,
          54007.97211,
          556086.4889,
          556086.4889,
          556086.4889,
          556086.4889,
          556086.4889,
          556086.4889,
          771350.3305,
          771350.3305,
          771350.3305,
          771350.3305,
          771350.3305,
          771350.3305,
          608186,
          608186,
          608186,
          608186,
          608186,
          608186,
          20544343.46,
          20544343.46,
          20544343.46,
          20544343.46,
          20544343.46,
          20544343.46,
          274024.959,
          274024.959,
          274024.959,
          274024.959,
          274024.959,
          274024.959,
          358581.9434,
          358581.9434,
          358581.9434,
          358581.9434,
          358581.9434,
          358581.9434,
          330910.3436,
          330910.3436,
          330910.3436,
          330910.3436,
          330910.3436,
          330910.3436,
          504992.7577,
          504992.7577,
          504992.7577,
          504992.7577,
          504992.7577,
          504992.7577,
          245213.6864,
          245213.6864,
          245213.6864,
          245213.6864,
          245213.6864,
          245213.6864,
          179339.9949,
          179339.9949,
          179339.9949,
          179339.9949,
          179339.9949,
          179339.9949,
          13066.74914,
          13066.74914,
          13066.74914,
          13066.74914,
          13066.74914,
          13066.74914,
          88900.77086,
          88900.77086,
          88900.77086,
          88900.77086,
          88900.77086,
          88900.77086,
          314588.2105,
          314588.2105,
          314588.2105,
          314588.2105,
          314588.2105,
          314588.2105,
          5536.759659,
          5536.759659,
          5536.759659,
          5536.759659,
          5536.759659,
          5536.759659,
          17953.78642,
          17953.78642,
          17953.78642,
          17953.78642,
          17953.78642,
          17953.78642,
          13567.35118,
          13567.35118,
          13567.35118,
          13567.35118,
          13567.35118,
          13567.35118,
          2534.965163,
          2534.965163,
          2534.965163,
          2534.965163,
          2534.965163,
          2534.965163,
          8092.836609,
          8092.836609,
          8092.836609,
          8092.836609,
          8092.836609,
          8092.836609,
          24542.47406,
          24542.47406,
          24542.47406,
          24542.47406,
          24542.47406,
          24542.47406,
          5327.45715,
          5327.45715,
          5327.45715,
          5327.45715,
          5327.45715,
          5327.45715,
          29040.39898,
          29040.39898,
          29040.39898,
          29040.39898,
          29040.39898,
          29040.39898,
          364156.6578,
          364156.6578,
          364156.6578,
          364156.6578,
          364156.6578,
          364156.6578,
          362682.0182,
          362682.0182,
          362682.0182,
          362682.0182,
          362682.0182,
          362682.0182,
          1433904.349,
          1433904.349,
          1433904.349,
          1433904.349,
          1433904.349,
          1433904.349,
          455285.818,
          455285.818,
          455285.818,
          455285.818,
          455285.818,
          455285.818,
          542761.0921,
          542761.0921,
          542761.0921,
          542761.0921,
          542761.0921,
          542761.0921,
          65132.95112,
          65132.95112,
          65132.95112,
          65132.95112,
          65132.95112,
          65132.95112,
          1868626.088,
          1868626.088,
          1868626.088,
          1868626.088,
          1868626.088,
          1868626.088,
          1713341.705,
          1713341.705,
          1713341.705,
          1713341.705,
          1713341.705,
          1713341.705,
          705140.3542,
          705140.3542,
          705140.3542,
          705140.3542,
          705140.3542,
          705140.3542,
          13608151.86,
          13608151.86,
          13608151.86,
          13608151.86,
          13608151.86,
          13608151.86,
          24961.98866,
          24961.98866,
          24961.98866,
          24961.98866,
          24961.98866,
          24961.98866,
          245225.8829,
          245225.8829,
          245225.8829,
          245225.8829,
          245225.8829,
          245225.8829,
          3947620.163,
          3947620.163,
          3947620.163,
          3947620.163,
          3947620.163,
          3947620.163,
          355675.3291,
          355675.3291,
          355675.3291,
          355675.3291,
          355675.3291,
          355675.3291,
          1419041.95,
          1419041.95,
          1419041.95,
          1419041.95,
          1419041.95,
          1419041.95,
          30732.14453,
          30732.14453,
          30732.14453,
          30732.14453,
          30732.14453,
          30732.14453,
          276743.1205,
          276743.1205,
          276743.1205,
          276743.1205,
          276743.1205,
          276743.1205,
          2777535.239,
          2777535.239,
          2777535.239,
          2777535.239,
          2777535.239,
          2777535.239,
          2855296.732,
          2855296.732,
          2855296.732,
          2855296.732,
          2855296.732,
          2855296.732,
          218031.8446,
          218031.8446,
          218031.8446,
          218031.8446,
          218031.8446,
          218031.8446,
          60971.69932,
          60971.69932,
          60971.69932,
          60971.69932,
          60971.69932,
          60971.69932,
          157882.9128,
          157882.9128,
          157882.9128,
          157882.9128,
          157882.9128,
          157882.9128,
          1042173.301,
          1042173.301,
          1042173.301,
          1042173.301,
          1042173.301,
          1042173.301,
          2718732.231,
          2718732.231,
          2718732.231,
          2718732.231,
          2718732.231,
          2718732.231,
          382487.4905,
          382487.4905,
          382487.4905,
          382487.4905,
          382487.4905,
          382487.4905,
          2083864.26,
          2083864.26,
          2083864.26,
          2083864.26,
          2083864.26,
          2083864.26,
          4971323.08,
          4971323.08,
          4971323.08,
          4971323.08,
          4971323.08,
          4971323.08,
          1619423.701,
          1619423.701,
          1619423.701,
          1619423.701,
          1619423.701,
          1619423.701,
          53429.06643,
          53429.06643,
          53429.06643,
          53429.06643,
          53429.06643,
          53429.06643,
          70885.32588,
          70885.32588,
          70885.32588,
          70885.32588,
          70885.32588,
          70885.32588,
          34409.22918,
          34409.22918,
          34409.22918,
          34409.22918,
          34409.22918,
          34409.22918,
          1220699.48,
          1220699.48,
          1220699.48,
          1220699.48,
          1220699.48,
          1220699.48,
          14553.42293,
          14553.42293,
          14553.42293,
          14553.42293,
          14553.42293,
          14553.42293,
          913658.4657,
          913658.4657,
          913658.4657,
          913658.4657,
          913658.4657,
          913658.4657,
          434166.6154,
          434166.6154,
          434166.6154,
          434166.6154,
          434166.6154,
          434166.6154,
          585663.8148,
          585663.8148,
          585663.8148,
          585663.8148,
          585663.8148,
          585663.8148,
          240674.5245,
          240674.5245,
          240674.5245,
          240674.5245,
          240674.5245,
          240674.5245,
          239552.5167,
          239552.5167,
          239552.5167,
          239552.5167,
          239552.5167,
          239552.5167,
          1657554.647,
          1657554.647,
          1657554.647,
          1657554.647,
          1657554.647,
          1657554.647,
          105904.6322,
          105904.6322,
          105904.6322,
          105904.6322,
          105904.6322,
          105904.6322,
          54007.97211,
          54007.97211,
          54007.97211,
          54007.97211,
          54007.97211,
          54007.97211,
          556086.4889,
          556086.4889,
          556086.4889,
          556086.4889,
          556086.4889,
          556086.4889,
          771350.3305,
          771350.3305,
          771350.3305,
          771350.3305,
          771350.3305,
          771350.3305,
          608186,
          608186,
          608186,
          608186,
          608186,
          608186,
          20544343.46,
          20544343.46,
          20544343.46,
          20544343.46,
          20544343.46,
          20544343.46,
          274024.959,
          274024.959,
          274024.959,
          274024.959,
          274024.959,
          274024.959,
          358581.9434,
          358581.9434,
          358581.9434,
          358581.9434,
          358581.9434,
          358581.9434,
          330910.3436,
          330910.3436,
          330910.3436,
          330910.3436,
          330910.3436,
          330910.3436,
          504992.7577,
          504992.7577,
          504992.7577,
          504992.7577,
          504992.7577,
          504992.7577,
          245213.6864,
          245213.6864,
          245213.6864,
          245213.6864,
          245213.6864,
          245213.6864,
          179339.9949,
          179339.9949,
          179339.9949,
          179339.9949,
          179339.9949,
          179339.9949,
          13066.74914,
          13066.74914,
          13066.74914,
          13066.74914,
          13066.74914,
          13066.74914,
          88900.77086,
          88900.77086,
          88900.77086,
          88900.77086,
          88900.77086,
          88900.77086,
          314588.2105,
          314588.2105,
          314588.2105,
          314588.2105,
          314588.2105,
          314588.2105,
          5536.759659,
          5536.759659,
          5536.759659,
          5536.759659,
          5536.759659,
          5536.759659,
          17953.78642,
          17953.78642,
          17953.78642,
          17953.78642,
          17953.78642,
          17953.78642,
          13567.35118,
          13567.35118,
          13567.35118,
          13567.35118,
          13567.35118,
          13567.35118,
          2534.965163,
          2534.965163,
          2534.965163,
          2534.965163,
          2534.965163,
          2534.965163,
          8092.836609,
          8092.836609,
          8092.836609,
          8092.836609,
          8092.836609,
          8092.836609,
          24542.47406,
          24542.47406,
          24542.47406,
          24542.47406,
          24542.47406,
          24542.47406,
          5327.45715,
          5327.45715,
          5327.45715,
          5327.45715,
          5327.45715,
          5327.45715,
          29040.39898,
          29040.39898,
          29040.39898,
          29040.39898,
          29040.39898,
          29040.39898,
          364156.6578,
          364156.6578,
          364156.6578,
          364156.6578,
          364156.6578,
          364156.6578,
          362682.0182,
          362682.0182,
          362682.0182,
          362682.0182,
          362682.0182,
          362682.0182,
          1433904.349,
          1433904.349,
          1433904.349,
          1433904.349,
          1433904.349,
          1433904.349,
          455285.818,
          455285.818,
          455285.818,
          455285.818,
          455285.818,
          455285.818,
          542761.0921,
          542761.0921,
          542761.0921,
          542761.0921,
          542761.0921,
          542761.0921,
          65132.95112,
          65132.95112,
          65132.95112,
          65132.95112,
          65132.95112,
          65132.95112,
          1868626.088,
          1868626.088,
          1868626.088,
          1868626.088,
          1868626.088,
          1868626.088,
          1713341.705,
          1713341.705,
          1713341.705,
          1713341.705,
          1713341.705,
          1713341.705,
          705140.3542,
          705140.3542,
          705140.3542,
          705140.3542,
          705140.3542,
          705140.3542,
          13608151.86,
          13608151.86,
          13608151.86,
          13608151.86,
          13608151.86,
          13608151.86,
          24961.98866,
          24961.98866,
          24961.98866,
          24961.98866,
          24961.98866,
          24961.98866,
          245225.8829,
          245225.8829,
          245225.8829,
          245225.8829,
          245225.8829,
          245225.8829,
          3947620.163,
          3947620.163,
          3947620.163,
          3947620.163,
          3947620.163,
          3947620.163,
          355675.3291,
          355675.3291,
          355675.3291,
          355675.3291,
          355675.3291,
          355675.3291,
          1419041.95,
          1419041.95,
          1419041.95,
          1419041.95,
          1419041.95,
          1419041.95,
          30732.14453,
          30732.14453,
          30732.14453,
          30732.14453,
          30732.14453,
          30732.14453,
          276743.1205,
          276743.1205,
          276743.1205,
          276743.1205,
          276743.1205,
          276743.1205,
          2777535.239,
          2777535.239,
          2777535.239,
          2777535.239,
          2777535.239,
          2777535.239,
          2855296.732,
          2855296.732,
          2855296.732,
          2855296.732,
          2855296.732,
          2855296.732,
          218031.8446,
          218031.8446,
          218031.8446,
          218031.8446,
          218031.8446,
          218031.8446,
          60971.69932,
          60971.69932,
          60971.69932,
          60971.69932,
          60971.69932,
          60971.69932,
          157882.9128,
          157882.9128,
          157882.9128,
          157882.9128,
          157882.9128,
          157882.9128,
          1042173.301,
          1042173.301,
          1042173.301,
          1042173.301,
          1042173.301,
          1042173.301,
          2718732.231,
          2718732.231,
          2718732.231,
          2718732.231,
          2718732.231,
          2718732.231,
          382487.4905,
          382487.4905,
          382487.4905,
          382487.4905,
          382487.4905,
          382487.4905,
          2083864.26,
          2083864.26,
          2083864.26,
          2083864.26,
          2083864.26,
          2083864.26,
          4971323.08,
          4971323.08,
          4971323.08,
          4971323.08,
          4971323.08,
          4971323.08,
          1619423.701,
          1619423.701,
          1619423.701,
          1619423.701,
          1619423.701,
          1619423.701,
          53429.06643,
          53429.06643,
          53429.06643,
          53429.06643,
          53429.06643,
          53429.06643,
          70885.32588,
          70885.32588,
          70885.32588,
          70885.32588,
          70885.32588,
          70885.32588,
          34409.22918,
          34409.22918,
          34409.22918,
          34409.22918,
          34409.22918,
          34409.22918,
          1220699.48,
          1220699.48,
          1220699.48,
          1220699.48,
          1220699.48,
          1220699.48,
          14553.42293,
          14553.42293,
          14553.42293,
          14553.42293,
          14553.42293,
          14553.42293,
          913658.4657,
          913658.4657,
          913658.4657,
          913658.4657,
          913658.4657,
          913658.4657,
          434166.6154,
          434166.6154,
          434166.6154,
          434166.6154,
          434166.6154,
          434166.6154,
          585663.8148,
          585663.8148,
          585663.8148,
          585663.8148,
          585663.8148,
          585663.8148,
          240674.5245,
          240674.5245,
          240674.5245,
          240674.5245,
          240674.5245,
          240674.5245,
          239552.5167,
          239552.5167,
          239552.5167,
          239552.5167,
          239552.5167,
          239552.5167,
          1657554.647,
          1657554.647,
          1657554.647,
          1657554.647,
          1657554.647,
          1657554.647,
          105904.6322,
          105904.6322,
          105904.6322,
          105904.6322,
          105904.6322,
          105904.6322,
          54007.97211,
          54007.97211,
          54007.97211,
          54007.97211,
          54007.97211,
          54007.97211,
          556086.4889,
          556086.4889,
          556086.4889,
          556086.4889,
          556086.4889,
          556086.4889,
          771350.3305,
          771350.3305,
          771350.3305,
          771350.3305,
          771350.3305,
          771350.3305,
          608186,
          608186,
          608186,
          608186,
          608186,
          608186,
          20544343.46,
          20544343.46,
          20544343.46,
          20544343.46,
          20544343.46,
          20544343.46,
          274024.959,
          274024.959,
          274024.959,
          274024.959,
          274024.959,
          274024.959,
          358581.9434,
          358581.9434,
          358581.9434,
          358581.9434,
          358581.9434,
          358581.9434,
          330910.3436,
          330910.3436,
          330910.3436,
          330910.3436,
          330910.3436,
          330910.3436,
          504992.7577,
          504992.7577,
          504992.7577,
          504992.7577,
          504992.7577,
          504992.7577,
          245213.6864,
          245213.6864,
          245213.6864,
          245213.6864,
          245213.6864,
          245213.6864,
          179339.9949,
          179339.9949,
          179339.9949,
          179339.9949,
          179339.9949,
          179339.9949,
          13066.74914,
          13066.74914,
          13066.74914,
          13066.74914,
          13066.74914,
          13066.74914,
          88900.77086,
          88900.77086,
          88900.77086,
          88900.77086,
          88900.77086,
          88900.77086,
          314588.2105,
          314588.2105,
          314588.2105,
          314588.2105,
          314588.2105,
          314588.2105,
          5536.759659,
          5536.759659,
          5536.759659,
          5536.759659,
          5536.759659,
          5536.759659,
          17953.78642,
          17953.78642,
          17953.78642,
          17953.78642,
          17953.78642,
          17953.78642,
          13567.35118,
          13567.35118,
          13567.35118,
          13567.35118,
          13567.35118,
          13567.35118,
          2534.965163,
          2534.965163,
          2534.965163,
          2534.965163,
          2534.965163,
          2534.965163,
          8092.836609,
          8092.836609,
          8092.836609,
          8092.836609,
          8092.836609,
          8092.836609,
          24542.47406,
          24542.47406,
          24542.47406,
          24542.47406,
          24542.47406,
          24542.47406,
          5327.45715,
          5327.45715,
          5327.45715,
          5327.45715,
          5327.45715,
          5327.45715,
          29040.39898,
          29040.39898,
          29040.39898,
          29040.39898,
          29040.39898,
          29040.39898,
          364156.6578,
          364156.6578,
          364156.6578,
          364156.6578,
          364156.6578,
          364156.6578,
          362682.0182,
          362682.0182,
          362682.0182,
          362682.0182,
          362682.0182,
          362682.0182,
          13608151.86,
          1042173.301,
          2718732.231,
          1619423.701,
          608186,
          274024.959,
          358581.9434,
          330910.3436,
          504992.7577,
          245213.6864,
          179339.9949,
          13066.74914,
          88900.77086,
          314588.2105,
          5536.759659,
          17953.78642,
          13567.35118,
          2534.965163,
          8092.836609,
          24542.47406,
          364156.6578,
          362682.0182,
          13608151.86,
          1042173.301,
          2718732.231,
          1619423.701,
          608186,
          274024.959,
          358581.9434,
          330910.3436,
          504992.7577,
          245213.6864,
          179339.9949,
          13066.74914,
          88900.77086,
          314588.2105,
          5536.759659,
          17953.78642,
          13567.35118,
          2534.965163,
          8092.836609,
          24542.47406,
          364156.6578,
          362682.0182,
          13608151.86,
          1042173.301,
          2718732.231,
          1619423.701,
          608186,
          274024.959,
          358581.9434,
          330910.3436,
          504992.7577,
          245213.6864,
          179339.9949,
          13066.74914,
          88900.77086,
          314588.2105,
          5536.759659,
          17953.78642,
          13567.35118,
          2534.965163,
          8092.836609,
          24542.47406,
          364156.6578,
          362682.0182,
          13608151.86,
          1042173.301,
          2718732.231,
          1619423.701,
          608186,
          274024.959,
          358581.9434,
          330910.3436,
          504992.7577,
          245213.6864,
          179339.9949,
          13066.74914,
          88900.77086,
          314588.2105,
          5536.759659,
          17953.78642,
          13567.35118,
          2534.965163,
          8092.836609,
          24542.47406,
          364156.6578,
          362682.0182
         ],
         "xaxis": "x",
         "yaxis": "y"
        }
       ],
       "layout": {
        "barmode": "relative",
        "legend": {
         "tracegroupgap": 0
        },
        "template": {
         "data": {
          "bar": [
           {
            "error_x": {
             "color": "#2a3f5f"
            },
            "error_y": {
             "color": "#2a3f5f"
            },
            "marker": {
             "line": {
              "color": "#E5ECF6",
              "width": 0.5
             },
             "pattern": {
              "fillmode": "overlay",
              "size": 10,
              "solidity": 0.2
             }
            },
            "type": "bar"
           }
          ],
          "barpolar": [
           {
            "marker": {
             "line": {
              "color": "#E5ECF6",
              "width": 0.5
             },
             "pattern": {
              "fillmode": "overlay",
              "size": 10,
              "solidity": 0.2
             }
            },
            "type": "barpolar"
           }
          ],
          "carpet": [
           {
            "aaxis": {
             "endlinecolor": "#2a3f5f",
             "gridcolor": "white",
             "linecolor": "white",
             "minorgridcolor": "white",
             "startlinecolor": "#2a3f5f"
            },
            "baxis": {
             "endlinecolor": "#2a3f5f",
             "gridcolor": "white",
             "linecolor": "white",
             "minorgridcolor": "white",
             "startlinecolor": "#2a3f5f"
            },
            "type": "carpet"
           }
          ],
          "choropleth": [
           {
            "colorbar": {
             "outlinewidth": 0,
             "ticks": ""
            },
            "type": "choropleth"
           }
          ],
          "contour": [
           {
            "colorbar": {
             "outlinewidth": 0,
             "ticks": ""
            },
            "colorscale": [
             [
              0,
              "#0d0887"
             ],
             [
              0.1111111111111111,
              "#46039f"
             ],
             [
              0.2222222222222222,
              "#7201a8"
             ],
             [
              0.3333333333333333,
              "#9c179e"
             ],
             [
              0.4444444444444444,
              "#bd3786"
             ],
             [
              0.5555555555555556,
              "#d8576b"
             ],
             [
              0.6666666666666666,
              "#ed7953"
             ],
             [
              0.7777777777777778,
              "#fb9f3a"
             ],
             [
              0.8888888888888888,
              "#fdca26"
             ],
             [
              1,
              "#f0f921"
             ]
            ],
            "type": "contour"
           }
          ],
          "contourcarpet": [
           {
            "colorbar": {
             "outlinewidth": 0,
             "ticks": ""
            },
            "type": "contourcarpet"
           }
          ],
          "heatmap": [
           {
            "colorbar": {
             "outlinewidth": 0,
             "ticks": ""
            },
            "colorscale": [
             [
              0,
              "#0d0887"
             ],
             [
              0.1111111111111111,
              "#46039f"
             ],
             [
              0.2222222222222222,
              "#7201a8"
             ],
             [
              0.3333333333333333,
              "#9c179e"
             ],
             [
              0.4444444444444444,
              "#bd3786"
             ],
             [
              0.5555555555555556,
              "#d8576b"
             ],
             [
              0.6666666666666666,
              "#ed7953"
             ],
             [
              0.7777777777777778,
              "#fb9f3a"
             ],
             [
              0.8888888888888888,
              "#fdca26"
             ],
             [
              1,
              "#f0f921"
             ]
            ],
            "type": "heatmap"
           }
          ],
          "heatmapgl": [
           {
            "colorbar": {
             "outlinewidth": 0,
             "ticks": ""
            },
            "colorscale": [
             [
              0,
              "#0d0887"
             ],
             [
              0.1111111111111111,
              "#46039f"
             ],
             [
              0.2222222222222222,
              "#7201a8"
             ],
             [
              0.3333333333333333,
              "#9c179e"
             ],
             [
              0.4444444444444444,
              "#bd3786"
             ],
             [
              0.5555555555555556,
              "#d8576b"
             ],
             [
              0.6666666666666666,
              "#ed7953"
             ],
             [
              0.7777777777777778,
              "#fb9f3a"
             ],
             [
              0.8888888888888888,
              "#fdca26"
             ],
             [
              1,
              "#f0f921"
             ]
            ],
            "type": "heatmapgl"
           }
          ],
          "histogram": [
           {
            "marker": {
             "pattern": {
              "fillmode": "overlay",
              "size": 10,
              "solidity": 0.2
             }
            },
            "type": "histogram"
           }
          ],
          "histogram2d": [
           {
            "colorbar": {
             "outlinewidth": 0,
             "ticks": ""
            },
            "colorscale": [
             [
              0,
              "#0d0887"
             ],
             [
              0.1111111111111111,
              "#46039f"
             ],
             [
              0.2222222222222222,
              "#7201a8"
             ],
             [
              0.3333333333333333,
              "#9c179e"
             ],
             [
              0.4444444444444444,
              "#bd3786"
             ],
             [
              0.5555555555555556,
              "#d8576b"
             ],
             [
              0.6666666666666666,
              "#ed7953"
             ],
             [
              0.7777777777777778,
              "#fb9f3a"
             ],
             [
              0.8888888888888888,
              "#fdca26"
             ],
             [
              1,
              "#f0f921"
             ]
            ],
            "type": "histogram2d"
           }
          ],
          "histogram2dcontour": [
           {
            "colorbar": {
             "outlinewidth": 0,
             "ticks": ""
            },
            "colorscale": [
             [
              0,
              "#0d0887"
             ],
             [
              0.1111111111111111,
              "#46039f"
             ],
             [
              0.2222222222222222,
              "#7201a8"
             ],
             [
              0.3333333333333333,
              "#9c179e"
             ],
             [
              0.4444444444444444,
              "#bd3786"
             ],
             [
              0.5555555555555556,
              "#d8576b"
             ],
             [
              0.6666666666666666,
              "#ed7953"
             ],
             [
              0.7777777777777778,
              "#fb9f3a"
             ],
             [
              0.8888888888888888,
              "#fdca26"
             ],
             [
              1,
              "#f0f921"
             ]
            ],
            "type": "histogram2dcontour"
           }
          ],
          "mesh3d": [
           {
            "colorbar": {
             "outlinewidth": 0,
             "ticks": ""
            },
            "type": "mesh3d"
           }
          ],
          "parcoords": [
           {
            "line": {
             "colorbar": {
              "outlinewidth": 0,
              "ticks": ""
             }
            },
            "type": "parcoords"
           }
          ],
          "pie": [
           {
            "automargin": true,
            "type": "pie"
           }
          ],
          "scatter": [
           {
            "fillpattern": {
             "fillmode": "overlay",
             "size": 10,
             "solidity": 0.2
            },
            "type": "scatter"
           }
          ],
          "scatter3d": [
           {
            "line": {
             "colorbar": {
              "outlinewidth": 0,
              "ticks": ""
             }
            },
            "marker": {
             "colorbar": {
              "outlinewidth": 0,
              "ticks": ""
             }
            },
            "type": "scatter3d"
           }
          ],
          "scattercarpet": [
           {
            "marker": {
             "colorbar": {
              "outlinewidth": 0,
              "ticks": ""
             }
            },
            "type": "scattercarpet"
           }
          ],
          "scattergeo": [
           {
            "marker": {
             "colorbar": {
              "outlinewidth": 0,
              "ticks": ""
             }
            },
            "type": "scattergeo"
           }
          ],
          "scattergl": [
           {
            "marker": {
             "colorbar": {
              "outlinewidth": 0,
              "ticks": ""
             }
            },
            "type": "scattergl"
           }
          ],
          "scattermapbox": [
           {
            "marker": {
             "colorbar": {
              "outlinewidth": 0,
              "ticks": ""
             }
            },
            "type": "scattermapbox"
           }
          ],
          "scatterpolar": [
           {
            "marker": {
             "colorbar": {
              "outlinewidth": 0,
              "ticks": ""
             }
            },
            "type": "scatterpolar"
           }
          ],
          "scatterpolargl": [
           {
            "marker": {
             "colorbar": {
              "outlinewidth": 0,
              "ticks": ""
             }
            },
            "type": "scatterpolargl"
           }
          ],
          "scatterternary": [
           {
            "marker": {
             "colorbar": {
              "outlinewidth": 0,
              "ticks": ""
             }
            },
            "type": "scatterternary"
           }
          ],
          "surface": [
           {
            "colorbar": {
             "outlinewidth": 0,
             "ticks": ""
            },
            "colorscale": [
             [
              0,
              "#0d0887"
             ],
             [
              0.1111111111111111,
              "#46039f"
             ],
             [
              0.2222222222222222,
              "#7201a8"
             ],
             [
              0.3333333333333333,
              "#9c179e"
             ],
             [
              0.4444444444444444,
              "#bd3786"
             ],
             [
              0.5555555555555556,
              "#d8576b"
             ],
             [
              0.6666666666666666,
              "#ed7953"
             ],
             [
              0.7777777777777778,
              "#fb9f3a"
             ],
             [
              0.8888888888888888,
              "#fdca26"
             ],
             [
              1,
              "#f0f921"
             ]
            ],
            "type": "surface"
           }
          ],
          "table": [
           {
            "cells": {
             "fill": {
              "color": "#EBF0F8"
             },
             "line": {
              "color": "white"
             }
            },
            "header": {
             "fill": {
              "color": "#C8D4E3"
             },
             "line": {
              "color": "white"
             }
            },
            "type": "table"
           }
          ]
         },
         "layout": {
          "annotationdefaults": {
           "arrowcolor": "#2a3f5f",
           "arrowhead": 0,
           "arrowwidth": 1
          },
          "autotypenumbers": "strict",
          "coloraxis": {
           "colorbar": {
            "outlinewidth": 0,
            "ticks": ""
           }
          },
          "colorscale": {
           "diverging": [
            [
             0,
             "#8e0152"
            ],
            [
             0.1,
             "#c51b7d"
            ],
            [
             0.2,
             "#de77ae"
            ],
            [
             0.3,
             "#f1b6da"
            ],
            [
             0.4,
             "#fde0ef"
            ],
            [
             0.5,
             "#f7f7f7"
            ],
            [
             0.6,
             "#e6f5d0"
            ],
            [
             0.7,
             "#b8e186"
            ],
            [
             0.8,
             "#7fbc41"
            ],
            [
             0.9,
             "#4d9221"
            ],
            [
             1,
             "#276419"
            ]
           ],
           "sequential": [
            [
             0,
             "#0d0887"
            ],
            [
             0.1111111111111111,
             "#46039f"
            ],
            [
             0.2222222222222222,
             "#7201a8"
            ],
            [
             0.3333333333333333,
             "#9c179e"
            ],
            [
             0.4444444444444444,
             "#bd3786"
            ],
            [
             0.5555555555555556,
             "#d8576b"
            ],
            [
             0.6666666666666666,
             "#ed7953"
            ],
            [
             0.7777777777777778,
             "#fb9f3a"
            ],
            [
             0.8888888888888888,
             "#fdca26"
            ],
            [
             1,
             "#f0f921"
            ]
           ],
           "sequentialminus": [
            [
             0,
             "#0d0887"
            ],
            [
             0.1111111111111111,
             "#46039f"
            ],
            [
             0.2222222222222222,
             "#7201a8"
            ],
            [
             0.3333333333333333,
             "#9c179e"
            ],
            [
             0.4444444444444444,
             "#bd3786"
            ],
            [
             0.5555555555555556,
             "#d8576b"
            ],
            [
             0.6666666666666666,
             "#ed7953"
            ],
            [
             0.7777777777777778,
             "#fb9f3a"
            ],
            [
             0.8888888888888888,
             "#fdca26"
            ],
            [
             1,
             "#f0f921"
            ]
           ]
          },
          "colorway": [
           "#636efa",
           "#EF553B",
           "#00cc96",
           "#ab63fa",
           "#FFA15A",
           "#19d3f3",
           "#FF6692",
           "#B6E880",
           "#FF97FF",
           "#FECB52"
          ],
          "font": {
           "color": "#2a3f5f"
          },
          "geo": {
           "bgcolor": "white",
           "lakecolor": "white",
           "landcolor": "#E5ECF6",
           "showlakes": true,
           "showland": true,
           "subunitcolor": "white"
          },
          "hoverlabel": {
           "align": "left"
          },
          "hovermode": "closest",
          "mapbox": {
           "style": "light"
          },
          "paper_bgcolor": "white",
          "plot_bgcolor": "#E5ECF6",
          "polar": {
           "angularaxis": {
            "gridcolor": "white",
            "linecolor": "white",
            "ticks": ""
           },
           "bgcolor": "#E5ECF6",
           "radialaxis": {
            "gridcolor": "white",
            "linecolor": "white",
            "ticks": ""
           }
          },
          "scene": {
           "xaxis": {
            "backgroundcolor": "#E5ECF6",
            "gridcolor": "white",
            "gridwidth": 2,
            "linecolor": "white",
            "showbackground": true,
            "ticks": "",
            "zerolinecolor": "white"
           },
           "yaxis": {
            "backgroundcolor": "#E5ECF6",
            "gridcolor": "white",
            "gridwidth": 2,
            "linecolor": "white",
            "showbackground": true,
            "ticks": "",
            "zerolinecolor": "white"
           },
           "zaxis": {
            "backgroundcolor": "#E5ECF6",
            "gridcolor": "white",
            "gridwidth": 2,
            "linecolor": "white",
            "showbackground": true,
            "ticks": "",
            "zerolinecolor": "white"
           }
          },
          "shapedefaults": {
           "line": {
            "color": "#2a3f5f"
           }
          },
          "ternary": {
           "aaxis": {
            "gridcolor": "white",
            "linecolor": "white",
            "ticks": ""
           },
           "baxis": {
            "gridcolor": "white",
            "linecolor": "white",
            "ticks": ""
           },
           "bgcolor": "#E5ECF6",
           "caxis": {
            "gridcolor": "white",
            "linecolor": "white",
            "ticks": ""
           }
          },
          "title": {
           "x": 0.05
          },
          "xaxis": {
           "automargin": true,
           "gridcolor": "white",
           "linecolor": "white",
           "ticks": "",
           "title": {
            "standoff": 15
           },
           "zerolinecolor": "white",
           "zerolinewidth": 2
          },
          "yaxis": {
           "automargin": true,
           "gridcolor": "white",
           "linecolor": "white",
           "ticks": "",
           "title": {
            "standoff": 15
           },
           "zerolinecolor": "white",
           "zerolinewidth": 2
          }
         }
        },
        "title": {
         "text": "Distribution of Country 2020 GDP"
        },
        "xaxis": {
         "anchor": "y",
         "domain": [
          0,
          1
         ],
         "title": {
          "text": "Country 2020 GDP"
         }
        },
        "yaxis": {
         "anchor": "x",
         "domain": [
          0,
          1
         ],
         "title": {
          "text": "Frequency"
         }
        }
       }
      }
     },
     "metadata": {},
     "output_type": "display_data"
    }
   ],
   "source": [
    "fig = px.histogram(df, x='Country 2020 GDP', nbins=20, title='Distribution of Country 2020 GDP')\n",
    "fig.update_xaxes(title_text='Country 2020 GDP')\n",
    "fig.update_yaxes(title_text='Frequency')\n",
    "fig.show()"
   ]
  },
  {
   "cell_type": "code",
   "execution_count": 14,
   "metadata": {},
   "outputs": [
    {
     "data": {
      "image/png": "[encoded data removed]",
      "text/plain": [
       "<Figure size 1000x1000 with 20 Axes>"
      ]
     },
     "metadata": {},
     "output_type": "display_data"
    }
   ],
   "source": [
    "sns.pairplot(df[['Country 2020 GDP', 'as % of total GDP', ' in Mn dollars ', 'as % of sector GDP']])\n",
    "plt.show()"
   ]
  },
  {
   "cell_type": "code",
   "execution_count": 15,
   "metadata": {},
   "outputs": [
    {
     "data": {
      "application/vnd.plotly.v1+json": {
       "config": {
        "plotlyServerURL": "https://plot.ly"
       },
       "data": [
        {
         "hovertemplate": " in Mn dollars =%{x}<br>Employment (in 000)=%{y}<extra></extra>",
         "legendgroup": "",
         "marker": {
          "color": "#636efa",
          "symbol": "circle"
         },
         "mode": "markers",
         "name": "",
         "showlegend": false,
         "type": "scattergl",
         "x": [
          4671.7,
          20147.01,
          5023.1,
          5660.89,
          4307.48,
          39810.18,
          147.8,
          5112.21,
          2547.44,
          2306.08,
          1827.21,
          11940.76,
          82.4,
          7287.43,
          1130.04,
          2468.52,
          958.84,
          11927.24,
          105.02,
          929.27,
          239.19,
          357.34,
          548.49,
          2179.31,
          3733.82,
          26372.24,
          3955.13,
          7966.32,
          2192.68,
          44220.19,
          4333.24,
          22088.42,
          4192.86,
          7898.41,
          1818.84,
          40331.77,
          131.92,
          9396.92,
          1808.29,
          3765.41,
          1467,
          16569.53,
          84002.61,
          259946.48,
          35465.61,
          216865.1,
          31768.71,
          628048.51,
          13.17,
          540.59,
          264.61,
          86.25,
          298.53,
          1203.14,
          194.95,
          2659.54,
          569.93,
          1807.5,
          884.78,
          6116.7,
          748.91,
          47205.35,
          9326.14,
          25682.18,
          5098.37,
          88060.96,
          306.55,
          4453.2,
          553.14,
          1477.98,
          522.45,
          7313.32,
          967.25,
          18434.8,
          8987.87,
          7543.66,
          5883.12,
          41816.71,
          23.73,
          373.59,
          101.23,
          166.18,
          118.81,
          783.53,
          206.27,
          3619.87,
          369.22,
          1683.89,
          809.07,
          6688.31,
          896.94,
          39876.38,
          5174.49,
          10954.8,
          7270.34,
          64172.94,
          1228.23,
          38703.85,
          13282.28,
          11354.08,
          3390,
          67958.44,
          217.89,
          3275.09,
          1004.55,
          897.23,
          2439.49,
          7834.24,
          97.34,
          851.19,
          328.44,
          295.56,
          350.65,
          1923.18,
          153.41,
          1906.66,
          382.52,
          1042.69,
          1056.41,
          4541.68,
          1354.57,
          738.59,
          1031.38,
          1482.65,
          369.63,
          4976.82,
          755.01,
          1969.05,
          1438.32,
          1400.2,
          1019.7,
          6582.28,
          138.23,
          3474.64,
          583.63,
          2779.28,
          1458.73,
          8434.51,
          1161.35,
          27066.83,
          6619.15,
          9896.8,
          5881.84,
          50625.97,
          1515.62,
          57477.41,
          9464.58,
          27803.41,
          8191.97,
          104453,
          805.63,
          15997.12,
          3980.53,
          13545.61,
          2058,
          36386.9,
          35.09,
          572.95,
          97.7,
          300.18,
          301.95,
          1307.87,
          4.84,
          931.21,
          283.09,
          166.17,
          309.03,
          1694.34,
          27.84,
          523.43,
          68.13,
          162.5,
          429.03,
          1210.93,
          1387.77,
          1648.6,
          26.68,
          2691.43,
          197.22,
          5951.7,
          2.95,
          210.58,
          165.63,
          45.97,
          45.54,
          470.67,
          588.94,
          13188.84,
          1173.74,
          3527.18,
          2659.87,
          21138.58,
          1570.46,
          4701.63,
          486.75,
          1529.93,
          1052.82,
          9341.59,
          845.08,
          8719.98,
          2045.2,
          4827.88,
          5731.03,
          22169.17,
          144.12,
          3253.29,
          1247.31,
          1141.71,
          1430.03,
          7216.46,
          254.17,
          2105.6,
          451.83,
          1552.15,
          715.27,
          5079.01,
          4891.14,
          3734.22,
          274.42,
          2954.12,
          2979.51,
          14833.4,
          76.06,
          987.17,
          315.82,
          754.85,
          420.27,
          2554.17,
          27.28,
          627.49,
          97.73,
          339.44,
          227.65,
          1319.59,
          206.93,
          7775.7,
          812.34,
          2909.76,
          898.6,
          12603.32,
          1554.2,
          9507.72,
          1644.7,
          5222.33,
          5936.79,
          23865.76,
          54.32,
          1659.26,
          1438.73,
          4546.12,
          927.96,
          8626.39,
          12346.19,
          277585.59,
          42246.37,
          79362.71,
          33720.38,
          445261.23,
          61.31,
          124.26,
          19.22,
          263.51,
          22.96,
          491.26,
          589.15,
          1119.37,
          996.77,
          869.39,
          400.94,
          3975.62,
          258.91,
          818.42,
          646.93,
          692.78,
          199.02,
          2616.06,
          619.44,
          2821.28,
          4991.82,
          1772.56,
          1435.71,
          11640.81,
          544.96,
          608.01,
          553.83,
          1205.18,
          593.03,
          3505.01,
          632.5,
          345.15,
          65.03,
          262.1,
          407.42,
          1712.19,
          139.53,
          44.14,
          17.02,
          19,
          36.91,
          256.61,
          60.85,
          249.67,
          431.97,
          176.72,
          573.58,
          1492.79,
          154.66,
          116.31,
          12.89,
          106.89,
          23.94,
          414.68,
          10.63,
          42.62,
          92.64,
          15.37,
          43.25,
          204.5,
          34.18,
          31.25,
          44.76,
          37.6,
          33.55,
          181.35,
          79.46,
          7.13,
          14.75,
          23.88,
          5.07,
          130.28,
          0.79,
          1.85,
          2.04,
          3.39,
          1.53,
          9.6,
          3.67,
          21.84,
          0.9,
          12.4,
          48.46,
          87.27,
          110.47,
          102.79,
          290.31,
          93.91,
          296.22,
          893.7,
          8.75,
          61.9,
          178.84,
          74.47,
          50.05,
          374.01,
          7.32,
          20.43,
          55.04,
          5.76,
          29.34,
          117.89,
          0.5,
          1754.63,
          284.65,
          1090.55,
          1604.63,
          4734.95,
          1.49,
          2236.04,
          368.6,
          103.82,
          2360.85,
          5070.8,
          8517.75,
          50874.58,
          10716.53,
          14483.16,
          9207.05,
          93799.08,
          360.4,
          13653.2,
          5658.51,
          5929.39,
          3907.86,
          29509.37,
          201.82,
          19296.56,
          2664.48,
          6360.93,
          2162.85,
          30686.64,
          232.74,
          2276.01,
          519.37,
          882.08,
          1137.65,
          5047.85,
          8053.56,
          71229.03,
          9607.77,
          21294.48,
          5328.09,
          115512.92,
          10544.17,
          59429.06,
          9292.01,
          21362.28,
          4271.39,
          104898.91,
          318.11,
          23985.41,
          3893.67,
          9587.52,
          3146.81,
          40931.52,
          91984.24,
          275571.96,
          41173.05,
          242388.26,
          40483.71,
          691601.22,
          32.63,
          1305.25,
          564.95,
          217.87,
          609.17,
          2729.86,
          471.01,
          7005.44,
          1279.08,
          4589.06,
          1913.36,
          15257.95,
          1834.3,
          124902.05,
          21415.5,
          63844.58,
          11651.52,
          223647.94,
          719.05,
          12119.82,
          1408.66,
          3818.74,
          1135.41,
          19201.68,
          2313.09,
          47822.22,
          19766.92,
          19379.95,
          12434.32,
          101716.51,
          58.82,
          961.7,
          230.96,
          433.69,
          258.15,
          1943.31,
          499.14,
          9637.09,
          900.19,
          4387.12,
          1759.03,
          17182.56,
          2193.31,
          107576.45,
          12395.3,
          29136.04,
          15655.76,
          166956.86,
          2943.8,
          101555.81,
          30194.64,
          29687.9,
          7865.32,
          172247.48,
          532.47,
          8299.89,
          2287.18,
          2225.12,
          4967.33,
          18312,
          229.81,
          2138.43,
          713.89,
          752.51,
          719.45,
          4554.07,
          379.9,
          4983.06,
          879.04,
          2660.14,
          2209.95,
          11112.08,
          2643.62,
          1433.68,
          2049.18,
          3028.34,
          737.4,
          9892.22,
          1539.79,
          4273.83,
          2647.2,
          3082.76,
          2071.65,
          13615.25,
          343.3,
          8908.24,
          1286.02,
          7103.15,
          3162.54,
          20803.24,
          2880.87,
          71831.28,
          15243.34,
          25721.43,
          12934.89,
          128611.81,
          3795.71,
          154752.97,
          22744.94,
          71020.32,
          18510.95,
          270824.88,
          1938.84,
          41574.95,
          9213.84,
          30541.54,
          4432.59,
          87701.77,
          83.19,
          1486.66,
          228.17,
          772.89,
          642.83,
          3213.74,
          11.83,
          2345.06,
          600.95,
          437.59,
          644.91,
          4040.35,
          67.78,
          1285.85,
          149.63,
          415.24,
          881.09,
          2799.59,
          3228.94,
          4240.44,
          67.85,
          7072.32,
          504.64,
          15114.2,
          7.07,
          525.88,
          356.43,
          115.07,
          98.08,
          1102.53,
          1419.5,
          34287.93,
          2825.07,
          8907.44,
          5643.47,
          53083.42,
          3723.42,
          12996.46,
          1202.18,
          4116.4,
          2377.44,
          24415.91,
          1988.44,
          21628.96,
          4314.71,
          11851.11,
          11797,
          51580.21,
          345.29,
          8307.36,
          2722.63,
          2875.42,
          2961.03,
          17211.74,
          634.67,
          5570.17,
          1093.9,
          4042.21,
          1652.86,
          12993.81,
          9967.45,
          7705.67,
          555.48,
          6265.59,
          6047.2,
          30541.4,
          187.03,
          2625.1,
          691.53,
          1892.85,
          916.24,
          6312.75,
          66.98,
          1633.73,
          229.61,
          870.4,
          480.79,
          3281.51,
          516.28,
          21070.85,
          1979.35,
          7627.48,
          2043.17,
          33237.13,
          3851.03,
          25173.31,
          3947.17,
          14106.7,
          12832.55,
          59910.76,
          104.85,
          3042.47,
          2857.99,
          7356.99,
          1855.81,
          15218.12,
          31900.18,
          732558.07,
          99605.33,
          213018.4,
          73077.78,
          1150159.76,
          146.94,
          292.98,
          45.48,
          652.46,
          55.41,
          1193.27,
          1229.79,
          2271.22,
          1999.36,
          1701.22,
          809.43,
          8011.02,
          534.98,
          1693.45,
          1315.41,
          1408.52,
          405.26,
          5357.61,
          1177.81,
          5768.19,
          10026.45,
          3583.67,
          2887.9,
          23444.02,
          1059.11,
          1283.04,
          1126.41,
          2500.21,
          1197.78,
          7166.55,
          1331.95,
          723.22,
          130.14,
          539.88,
          823.97,
          3549.16,
          166.79,
          63.76,
          32.59,
          26.11,
          66.96,
          356.22,
          125.11,
          521.27,
          870.48,
          382.81,
          1163.71,
          3063.38,
          325.26,
          248.85,
          25.08,
          227.54,
          52.31,
          879.03,
          22.22,
          88.83,
          187.85,
          32.46,
          88.99,
          420.33,
          62.72,
          64.03,
          89.54,
          78.65,
          67.35,
          362.29,
          176.51,
          15.32,
          29.74,
          51.9,
          10.47,
          283.93,
          1.87,
          3.79,
          4.1,
          7.12,
          3.08,
          19.96,
          7.75,
          43.99,
          1.8,
          26.51,
          96.93,
          176.98,
          218.2,
          213.32,
          585.88,
          208.57,
          596.36,
          1822.32,
          17.7,
          125.18,
          360.81,
          150.26,
          101.2,
          755.15,
          14.94,
          42.51,
          110.53,
          12.1,
          59.2,
          239.28,
          0.99,
          3653,
          571.12,
          2085.05,
          3203.8,
          9513.96,
          2.94,
          4303.52,
          738.1,
          199.55,
          4686.65,
          9930.77,
          13504.6452756654,
          13504.6452756654,
          13504.6452756654,
          13504.6452756654,
          13504.6452756654,
          13504.6452756654,
          13504.6452756654,
          13504.6452756654,
          13504.6452756654,
          13504.6452756654,
          13504.6452756654,
          13504.6452756654,
          13504.6452756654,
          13504.6452756654,
          13504.6452756654,
          13504.6452756654,
          13504.6452756654,
          13504.6452756654,
          13504.6452756654,
          13504.6452756654,
          13504.6452756654,
          13504.6452756654,
          13504.6452756654,
          13504.6452756654,
          13504.6452756654,
          13504.6452756654,
          13504.6452756654,
          13504.6452756654,
          13504.6452756654,
          13504.6452756654,
          13504.6452756654,
          13504.6452756654,
          13504.6452756654,
          13504.6452756654,
          13504.6452756654,
          13504.6452756654,
          13504.6452756654,
          13504.6452756654,
          13504.6452756654,
          13504.6452756654,
          13504.6452756654,
          13504.6452756654,
          13504.6452756654,
          13504.6452756654,
          13504.6452756654,
          13504.6452756654,
          13504.6452756654,
          13504.6452756654,
          13504.6452756654,
          13504.6452756654,
          13504.6452756654,
          13504.6452756654,
          13504.6452756654,
          13504.6452756654,
          13504.6452756654,
          13504.6452756654,
          13504.6452756654,
          13504.6452756654,
          13504.6452756654,
          13504.6452756654,
          13504.6452756654,
          13504.6452756654,
          13504.6452756654,
          13504.6452756654,
          13504.6452756654,
          13504.6452756654,
          13504.6452756654,
          13504.6452756654,
          13504.6452756654,
          13504.6452756654,
          13504.6452756654,
          13504.6452756654,
          13504.6452756654,
          13504.6452756654,
          13504.6452756654,
          13504.6452756654,
          13504.6452756654,
          13504.6452756654,
          13504.6452756654,
          13504.6452756654,
          13504.6452756654,
          13504.6452756654,
          13504.6452756654,
          13504.6452756654,
          13504.6452756654,
          13504.6452756654,
          13504.6452756654,
          13504.6452756654,
          13504.6452756654,
          13504.6452756654,
          13504.6452756654,
          13504.6452756654,
          13504.6452756654,
          13504.6452756654,
          13504.6452756654,
          13504.6452756654,
          13504.6452756654,
          13504.6452756654,
          13504.6452756654,
          13504.6452756654,
          13504.6452756654,
          13504.6452756654,
          13504.6452756654,
          13504.6452756654,
          13504.6452756654,
          13504.6452756654,
          13504.6452756654,
          13504.6452756654,
          13504.6452756654,
          13504.6452756654,
          13504.6452756654,
          13504.6452756654,
          13504.6452756654,
          13504.6452756654,
          13504.6452756654,
          13504.6452756654,
          13504.6452756654,
          13504.6452756654,
          13504.6452756654,
          13504.6452756654,
          3073.3,
          6472.63,
          1015.3,
          5073.49,
          1087.35,
          16722.07,
          7297.17,
          24676.6,
          1822.03,
          9187.45,
          2552.24,
          45535.5,
          13504.6452756654,
          13504.6452756654,
          13504.6452756654,
          13504.6452756654,
          13504.6452756654,
          13504.6452756654,
          13504.6452756654,
          13504.6452756654,
          13504.6452756654,
          13504.6452756654,
          13504.6452756654,
          13504.6452756654,
          13504.6452756654,
          13504.6452756654,
          13504.6452756654,
          13504.6452756654,
          13504.6452756654,
          13504.6452756654,
          13504.6452756654,
          13504.6452756654,
          13504.6452756654,
          13504.6452756654,
          13504.6452756654,
          13504.6452756654,
          13504.6452756654,
          13504.6452756654,
          13504.6452756654,
          13504.6452756654,
          13504.6452756654,
          13504.6452756654,
          13504.6452756654,
          13504.6452756654,
          13504.6452756654,
          13504.6452756654,
          13504.6452756654,
          13504.6452756654,
          13504.6452756654,
          13504.6452756654,
          13504.6452756654,
          13504.6452756654,
          13504.6452756654,
          13504.6452756654,
          13504.6452756654,
          13504.6452756654,
          13504.6452756654,
          13504.6452756654,
          13504.6452756654,
          13504.6452756654,
          13504.6452756654,
          13504.6452756654,
          13504.6452756654,
          13504.6452756654,
          13504.6452756654,
          13504.6452756654,
          13504.6452756654,
          13504.6452756654,
          13504.6452756654,
          13504.6452756654,
          13504.6452756654,
          13504.6452756654,
          13504.6452756654,
          13504.6452756654,
          13504.6452756654,
          13504.6452756654,
          13504.6452756654,
          13504.6452756654,
          13504.6452756654,
          13504.6452756654,
          13504.6452756654,
          13504.6452756654,
          13504.6452756654,
          13504.6452756654,
          13504.6452756654,
          13504.6452756654,
          13504.6452756654,
          13504.6452756654,
          13504.6452756654,
          13504.6452756654,
          13504.6452756654,
          13504.6452756654,
          13504.6452756654,
          13504.6452756654,
          13504.6452756654,
          13504.6452756654,
          13504.6452756654,
          13504.6452756654,
          13504.6452756654,
          13504.6452756654,
          13504.6452756654,
          13504.6452756654,
          13504.6452756654,
          13504.6452756654,
          13504.6452756654,
          13504.6452756654,
          13504.6452756654,
          13504.6452756654,
          13504.6452756654,
          13504.6452756654,
          13504.6452756654,
          13504.6452756654,
          13504.6452756654,
          13504.6452756654,
          13504.6452756654,
          13504.6452756654,
          13504.6452756654,
          13504.6452756654,
          13504.6452756654,
          13504.6452756654,
          13504.6452756654,
          13504.6452756654,
          13504.6452756654,
          13504.6452756654,
          13504.6452756654,
          13504.6452756654,
          155.99,
          4742.68,
          645.77,
          1245.67,
          135.09,
          6925.2,
          13504.6452756654,
          13504.6452756654,
          13504.6452756654,
          13504.6452756654,
          13504.6452756654,
          13504.6452756654,
          725.25,
          1684.85,
          539.72,
          1127.36,
          405.1,
          4482.27,
          460.81,
          2164.62,
          291.82,
          775.19,
          121.28,
          3813.73,
          514.3,
          2745.59,
          186.15,
          1459.58,
          187.02,
          5092.64,
          394.34,
          2941.3,
          857.8,
          1479.77,
          149.15,
          5822.36,
          319.47,
          1128.9,
          152.29,
          916.51,
          68.91,
          2586.09,
          248.26,
          1271.15,
          142.87,
          526.55,
          211.28,
          2400.11,
          28.41,
          65.2,
          4.04,
          28.12,
          7.47,
          133.24,
          158,
          637.49,
          226.47,
          369.99,
          165.48,
          1557.43,
          1589.72,
          2707.04,
          291.28,
          982.64,
          623.16,
          6193.83,
          10.48,
          54.77,
          0.56,
          14.02,
          2.45,
          82.28,
          52.4,
          118.5,
          15.66,
          43.09,
          3.22,
          232.87,
          34.05,
          65.85,
          3.18,
          14.45,
          0.68,
          118.2,
          9.27,
          12.08,
          0.42,
          13.53,
          2.64,
          37.94,
          19.26,
          68.05,
          6.36,
          27.84,
          4.97,
          126.47,
          89.84,
          90.95,
          21.46,
          84.77,
          14.67,
          301.7,
          1.25,
          25.06,
          1.76,
          31.55,
          1.58,
          61.2,
          152.45,
          227.82,
          20.96,
          73.65,
          34.43,
          509.3,
          0.98,
          1918.99,
          355.02,
          565.35,
          113.64,
          2953.98,
          3.38,
          3050.34,
          385.62,
          442.82,
          126.74,
          4008.9,
          13504.6452756654,
          13504.6452756654,
          13504.6452756654,
          13504.6452756654,
          13504.6452756654,
          13504.6452756654,
          13504.6452756654,
          13504.6452756654,
          13504.6452756654,
          13504.6452756654,
          13504.6452756654,
          13504.6452756654,
          13504.6452756654,
          13504.6452756654,
          13504.6452756654,
          13504.6452756654,
          13504.6452756654,
          13504.6452756654,
          13504.6452756654,
          13504.6452756654,
          13504.6452756654,
          13504.6452756654,
          13504.6452756654,
          13504.6452756654,
          13504.6452756654,
          13504.6452756654,
          13504.6452756654,
          13504.6452756654,
          13504.6452756654,
          13504.6452756654,
          13504.6452756654,
          13504.6452756654,
          13504.6452756654,
          13504.6452756654,
          13504.6452756654,
          13504.6452756654,
          13504.6452756654,
          13504.6452756654,
          13504.6452756654,
          13504.6452756654,
          13504.6452756654,
          13504.6452756654,
          13504.6452756654,
          13504.6452756654,
          13504.6452756654,
          13504.6452756654,
          13504.6452756654,
          13504.6452756654,
          13504.6452756654,
          13504.6452756654,
          13504.6452756654,
          13504.6452756654,
          13504.6452756654,
          13504.6452756654,
          13504.6452756654,
          13504.6452756654,
          13504.6452756654,
          13504.6452756654,
          13504.6452756654,
          13504.6452756654,
          13504.6452756654,
          13504.6452756654,
          13504.6452756654,
          13504.6452756654,
          13504.6452756654,
          13504.6452756654,
          13504.6452756654,
          13504.6452756654,
          13504.6452756654,
          13504.6452756654,
          13504.6452756654,
          13504.6452756654,
          13504.6452756654,
          13504.6452756654,
          13504.6452756654,
          13504.6452756654,
          13504.6452756654,
          13504.6452756654,
          13504.6452756654,
          13504.6452756654,
          13504.6452756654,
          13504.6452756654,
          13504.6452756654,
          13504.6452756654,
          13504.6452756654,
          13504.6452756654,
          13504.6452756654,
          13504.6452756654,
          13504.6452756654,
          13504.6452756654,
          13504.6452756654,
          13504.6452756654,
          13504.6452756654,
          13504.6452756654,
          13504.6452756654,
          13504.6452756654,
          13504.6452756654,
          13504.6452756654,
          13504.6452756654,
          13504.6452756654,
          13504.6452756654,
          13504.6452756654,
          13504.6452756654,
          13504.6452756654,
          13504.6452756654,
          13504.6452756654,
          13504.6452756654,
          13504.6452756654,
          13504.6452756654,
          13504.6452756654,
          13504.6452756654,
          13504.6452756654,
          13504.6452756654,
          13504.6452756654,
          13504.6452756654,
          13504.6452756654,
          13504.6452756654,
          13504.6452756654,
          13504.6452756654,
          13504.6452756654,
          8306.02,
          17890.42,
          2635.96,
          14522.58,
          2911.03,
          46266.01,
          18594.17,
          67439.57,
          4766.59,
          26720.35,
          6831.65,
          124352.32,
          13504.6452756654,
          13504.6452756654,
          13504.6452756654,
          13504.6452756654,
          13504.6452756654,
          13504.6452756654,
          13504.6452756654,
          13504.6452756654,
          13504.6452756654,
          13504.6452756654,
          13504.6452756654,
          13504.6452756654,
          13504.6452756654,
          13504.6452756654,
          13504.6452756654,
          13504.6452756654,
          13504.6452756654,
          13504.6452756654,
          13504.6452756654,
          13504.6452756654,
          13504.6452756654,
          13504.6452756654,
          13504.6452756654,
          13504.6452756654,
          13504.6452756654,
          13504.6452756654,
          13504.6452756654,
          13504.6452756654,
          13504.6452756654,
          13504.6452756654,
          13504.6452756654,
          13504.6452756654,
          13504.6452756654,
          13504.6452756654,
          13504.6452756654,
          13504.6452756654,
          13504.6452756654,
          13504.6452756654,
          13504.6452756654,
          13504.6452756654,
          13504.6452756654,
          13504.6452756654,
          13504.6452756654,
          13504.6452756654,
          13504.6452756654,
          13504.6452756654,
          13504.6452756654,
          13504.6452756654,
          13504.6452756654,
          13504.6452756654,
          13504.6452756654,
          13504.6452756654,
          13504.6452756654,
          13504.6452756654,
          13504.6452756654,
          13504.6452756654,
          13504.6452756654,
          13504.6452756654,
          13504.6452756654,
          13504.6452756654,
          13504.6452756654,
          13504.6452756654,
          13504.6452756654,
          13504.6452756654,
          13504.6452756654,
          13504.6452756654,
          13504.6452756654,
          13504.6452756654,
          13504.6452756654,
          13504.6452756654,
          13504.6452756654,
          13504.6452756654,
          13504.6452756654,
          13504.6452756654,
          13504.6452756654,
          13504.6452756654,
          13504.6452756654,
          13504.6452756654,
          13504.6452756654,
          13504.6452756654,
          13504.6452756654,
          13504.6452756654,
          13504.6452756654,
          13504.6452756654,
          13504.6452756654,
          13504.6452756654,
          13504.6452756654,
          13504.6452756654,
          13504.6452756654,
          13504.6452756654,
          13504.6452756654,
          13504.6452756654,
          13504.6452756654,
          13504.6452756654,
          13504.6452756654,
          13504.6452756654,
          13504.6452756654,
          13504.6452756654,
          13504.6452756654,
          13504.6452756654,
          13504.6452756654,
          13504.6452756654,
          13504.6452756654,
          13504.6452756654,
          13504.6452756654,
          13504.6452756654,
          13504.6452756654,
          13504.6452756654,
          13504.6452756654,
          13504.6452756654,
          13504.6452756654,
          13504.6452756654,
          13504.6452756654,
          13504.6452756654,
          393.39,
          13058.26,
          1653.77,
          3535.07,
          356.4,
          18996.9,
          13504.6452756654,
          13504.6452756654,
          13504.6452756654,
          13504.6452756654,
          13504.6452756654,
          13504.6452756654,
          1869.79,
          4557.73,
          1373.86,
          3278.5,
          1058.15,
          12138.03,
          1213.44,
          5911.15,
          743.4,
          2174.64,
          322.6,
          10365.23,
          1341.72,
          7347.76,
          472.39,
          4038.16,
          477.09,
          13677.12,
          1010.79,
          8307.83,
          2196.9,
          4196.67,
          395.06,
          16107.26,
          816.72,
          3010.77,
          388.93,
          2557.61,
          178.43,
          6952.47,
          651.75,
          3462.92,
          363.16,
          1490.98,
          568.81,
          6537.62,
          79.27,
          180.36,
          10.78,
          76.93,
          19.78,
          367.12,
          409.85,
          1740.01,
          582.02,
          1031.64,
          428.34,
          4191.87,
          4036,
          7254.34,
          753.17,
          2660.37,
          1595.97,
          16299.86,
          27.02,
          151.18,
          1.46,
          38.39,
          6.3,
          224.34,
          132.69,
          320.71,
          39.31,
          121.84,
          8.68,
          623.25,
          102.98,
          193.92,
          8.58,
          42.3,
          1.96,
          349.74,
          24.04,
          34.76,
          1.15,
          40.29,
          7.44,
          107.69,
          48.84,
          189.95,
          16.93,
          82.81,
          13.63,
          352.16,
          226.75,
          238.13,
          55.48,
          244.13,
          38.43,
          802.92,
          3.13,
          68.04,
          4.46,
          82.83,
          4.05,
          162.51,
          409.2,
          638.02,
          58.79,
          214.8,
          92.7,
          1413.5,
          2.51,
          5352.9,
          904.45,
          1677.67,
          298.09,
          8235.62,
          8.46,
          8251.29,
          983.34,
          1331.62,
          324.16,
          10898.86,
          628048.51,
          4976.82,
          6582.28,
          36386.9,
          8626.39,
          491.26,
          3975.62,
          2616.06,
          11640.81,
          3505.01,
          1712.19,
          256.61,
          1492.79,
          414.68,
          204.5,
          181.35,
          130.28,
          9.6,
          87.27,
          893.7,
          4734.95,
          5070.8,
          13504.6452756654,
          13504.6452756654,
          13504.6452756654,
          13504.6452756654,
          13504.6452756654,
          13504.6452756654,
          13504.6452756654,
          13504.6452756654,
          13504.6452756654,
          13504.6452756654,
          13504.6452756654,
          13504.6452756654,
          13504.6452756654,
          13504.6452756654,
          13504.6452756654,
          13504.6452756654,
          13504.6452756654,
          13504.6452756654,
          13504.6452756654,
          13504.6452756654,
          13504.6452756654,
          13504.6452756654,
          13504.6452756654,
          13504.6452756654,
          13504.6452756654,
          13504.6452756654,
          13504.6452756654,
          13504.6452756654,
          13504.6452756654,
          13504.6452756654,
          13504.6452756654,
          13504.6452756654,
          13504.6452756654,
          13504.6452756654,
          13504.6452756654,
          13504.6452756654,
          13504.6452756654,
          13504.6452756654,
          13504.6452756654,
          13504.6452756654,
          13504.6452756654,
          13504.6452756654,
          13504.6452756654,
          13504.6452756654,
          691601.22,
          9892.22,
          13615.25,
          87701.77,
          15218.12,
          1193.27,
          8011.02,
          5357.61,
          23444.02,
          7166.55,
          3549.16,
          356.22,
          3063.38,
          879.03,
          420.33,
          362.29,
          283.93,
          19.96,
          176.98,
          1822.32,
          9513.96,
          9930.77
         ],
         "xaxis": "x",
         "y": [
          18,
          191,
          112,
          54,
          47,
          422,
          6,
          55,
          33,
          22,
          21,
          138,
          1,
          73,
          14,
          18,
          9,
          115,
          15,
          50,
          18,
          22,
          26,
          132,
          350,
          1221,
          624,
          412,
          139,
          2746,
          16,
          234,
          171,
          93,
          27,
          540,
          64,
          29,
          8,
          16,
          8,
          125,
          11598,
          9537,
          10976,
          13475,
          2086,
          47673,
          0,
          7,
          5,
          2,
          7,
          20,
          5,
          66,
          22,
          48,
          27,
          168,
          24,
          604,
          210,
          254,
          72,
          1163,
          2,
          42,
          7,
          12,
          4,
          67,
          23,
          237,
          210,
          76,
          80,
          626,
          1,
          9,
          5,
          5,
          4,
          24,
          3,
          36,
          6,
          14,
          9,
          69,
          16,
          398,
          80,
          104,
          92,
          690,
          14,
          512,
          154,
          128,
          76,
          883,
          13,
          62,
          24,
          22,
          24,
          145,
          20,
          12,
          3,
          6,
          7,
          48,
          11,
          60,
          19,
          38,
          34,
          161,
          166,
          80,
          318,
          107,
          29,
          700,
          288,
          182,
          328,
          258,
          104,
          1159,
          3,
          24,
          9,
          17,
          11,
          65,
          20,
          286,
          121,
          121,
          49,
          597,
          50,
          615,
          225,
          262,
          93,
          1245,
          33,
          282,
          173,
          167,
          66,
          721,
          3,
          21,
          6,
          8,
          6,
          43,
          0,
          5,
          3,
          2,
          5,
          15,
          1,
          16,
          5,
          6,
          8,
          36,
          74,
          51,
          3,
          138,
          8,
          274,
          0,
          3,
          3,
          1,
          1,
          8,
          6,
          141,
          20,
          32,
          26,
          225,
          18,
          14,
          1,
          7,
          3,
          43,
          54,
          246,
          125,
          135,
          209,
          768,
          13,
          68,
          31,
          27,
          18,
          157,
          55,
          107,
          20,
          65,
          35,
          283,
          98,
          173,
          40,
          114,
          155,
          579,
          2,
          25,
          9,
          15,
          9,
          60,
          2,
          12,
          3,
          7,
          4,
          28,
          3,
          70,
          18,
          23,
          8,
          121,
          137,
          275,
          127,
          210,
          90,
          839,
          3,
          30,
          55,
          70,
          26,
          184,
          82,
          2201,
          654,
          484,
          252,
          3673,
          41,
          15,
          3,
          64,
          4,
          127,
          11,
          75,
          66,
          30,
          20,
          202,
          91,
          98,
          105,
          46,
          20,
          360,
          269,
          166,
          209,
          110,
          172,
          926,
          292,
          63,
          137,
          130,
          96,
          720,
          23,
          9,
          2,
          10,
          4,
          49,
          4,
          4,
          4,
          2,
          4,
          18,
          18,
          14,
          29,
          17,
          28,
          106,
          58,
          13,
          1,
          9,
          2,
          83,
          3,
          1,
          2,
          1,
          1,
          7,
          13,
          5,
          6,
          6,
          5,
          35,
          0,
          0,
          0,
          0,
          0,
          1,
          0,
          0,
          0,
          0,
          0,
          1,
          4,
          6,
          0,
          3,
          5,
          17,
          94,
          44,
          38,
          19,
          5,
          200,
          6,
          2,
          1,
          1,
          1,
          11,
          8,
          13,
          18,
          5,
          4,
          48,
          0,
          22,
          6,
          7,
          23,
          58,
          0,
          17,
          7,
          2,
          39,
          66,
          34,
          488,
          239,
          141,
          99,
          1001,
          15,
          151,
          73,
          58,
          45,
          342,
          4,
          195,
          33,
          46,
          21,
          298,
          36,
          124,
          40,
          56,
          55,
          310,
          769,
          3320,
          1524,
          1132,
          343,
          7088,
          37,
          630,
          381,
          250,
          63,
          1360,
          153,
          73,
          18,
          41,
          17,
          302,
          12429,
          10153,
          12955,
          14634,
          2613,
          52784,
          1,
          16,
          11,
          5,
          13,
          45,
          13,
          176,
          49,
          122,
          58,
          418,
          59,
          1622,
          478,
          639,
          166,
          2964,
          4,
          117,
          19,
          31,
          9,
          180,
          55,
          626,
          463,
          198,
          170,
          1511,
          1,
          25,
          12,
          14,
          8,
          60,
          7,
          97,
          16,
          38,
          21,
          178,
          40,
          1090,
          192,
          281,
          198,
          1801,
          35,
          1371,
          352,
          338,
          177,
          2273,
          31,
          161,
          56,
          56,
          51,
          355,
          49,
          31,
          7,
          14,
          15,
          116,
          26,
          158,
          44,
          97,
          71,
          397,
          328,
          158,
          631,
          230,
          58,
          1405,
          598,
          394,
          604,
          575,
          212,
          2383,
          8,
          65,
          21,
          48,
          24,
          166,
          50,
          769,
          277,
          317,
          108,
          1521,
          127,
          1690,
          540,
          696,
          216,
          3268,
          80,
          713,
          402,
          400,
          138,
          1732,
          6,
          58,
          14,
          22,
          12,
          111,
          0,
          14,
          7,
          5,
          10,
          36,
          3,
          41,
          10,
          15,
          16,
          86,
          182,
          132,
          7,
          361,
          22,
          704,
          0,
          7,
          7,
          2,
          2,
          19,
          14,
          372,
          49,
          81,
          56,
          571,
          44,
          37,
          4,
          17,
          7,
          109,
          130,
          631,
          264,
          335,
          430,
          1790,
          31,
          174,
          68,
          70,
          38,
          381,
          138,
          287,
          48,
          172,
          81,
          726,
          204,
          357,
          81,
          239,
          313,
          1195,
          4,
          69,
          21,
          37,
          20,
          152,
          5,
          32,
          7,
          18,
          9,
          70,
          7,
          193,
          43,
          62,
          18,
          323,
          343,
          744,
          305,
          579,
          194,
          2164,
          5,
          55,
          109,
          118,
          53,
          340,
          208,
          5842,
          1563,
          1341,
          561,
          9514,
          97,
          35,
          6,
          158,
          11,
          307,
          24,
          153,
          132,
          60,
          40,
          409,
          188,
          202,
          214,
          93,
          41,
          739,
          511,
          341,
          417,
          222,
          346,
          1837,
          592,
          131,
          279,
          266,
          194,
          1463,
          38,
          19,
          4,
          21,
          9,
          91,
          6,
          6,
          9,
          3,
          7,
          29,
          38,
          30,
          59,
          37,
          56,
          220,
          123,
          28,
          3,
          19,
          4,
          176,
          6,
          3,
          3,
          1,
          1,
          15,
          22,
          10,
          13,
          11,
          11,
          68,
          0,
          0,
          1,
          0,
          0,
          2,
          1,
          1,
          0,
          0,
          0,
          3,
          8,
          11,
          0,
          5,
          9,
          34,
          186,
          91,
          77,
          37,
          9,
          400,
          12,
          5,
          2,
          3,
          1,
          22,
          16,
          28,
          36,
          11,
          8,
          98,
          0,
          46,
          12,
          14,
          47,
          118,
          0,
          33,
          15,
          5,
          77,
          130,
          483.3452380952381,
          483.3452380952381,
          483.3452380952381,
          483.3452380952381,
          483.3452380952381,
          483.3452380952381,
          483.3452380952381,
          483.3452380952381,
          483.3452380952381,
          483.3452380952381,
          483.3452380952381,
          483.3452380952381,
          483.3452380952381,
          483.3452380952381,
          483.3452380952381,
          483.3452380952381,
          483.3452380952381,
          483.3452380952381,
          483.3452380952381,
          483.3452380952381,
          483.3452380952381,
          483.3452380952381,
          483.3452380952381,
          483.3452380952381,
          483.3452380952381,
          483.3452380952381,
          483.3452380952381,
          483.3452380952381,
          483.3452380952381,
          483.3452380952381,
          483.3452380952381,
          483.3452380952381,
          483.3452380952381,
          483.3452380952381,
          483.3452380952381,
          483.3452380952381,
          483.3452380952381,
          483.3452380952381,
          483.3452380952381,
          483.3452380952381,
          483.3452380952381,
          483.3452380952381,
          483.3452380952381,
          483.3452380952381,
          483.3452380952381,
          483.3452380952381,
          483.3452380952381,
          483.3452380952381,
          483.3452380952381,
          483.3452380952381,
          483.3452380952381,
          483.3452380952381,
          483.3452380952381,
          483.3452380952381,
          483.3452380952381,
          483.3452380952381,
          483.3452380952381,
          483.3452380952381,
          483.3452380952381,
          483.3452380952381,
          483.3452380952381,
          483.3452380952381,
          483.3452380952381,
          483.3452380952381,
          483.3452380952381,
          483.3452380952381,
          483.3452380952381,
          483.3452380952381,
          483.3452380952381,
          483.3452380952381,
          483.3452380952381,
          483.3452380952381,
          483.3452380952381,
          483.3452380952381,
          483.3452380952381,
          483.3452380952381,
          483.3452380952381,
          483.3452380952381,
          483.3452380952381,
          483.3452380952381,
          483.3452380952381,
          483.3452380952381,
          483.3452380952381,
          483.3452380952381,
          483.3452380952381,
          483.3452380952381,
          483.3452380952381,
          483.3452380952381,
          483.3452380952381,
          483.3452380952381,
          483.3452380952381,
          483.3452380952381,
          483.3452380952381,
          483.3452380952381,
          483.3452380952381,
          483.3452380952381,
          483.3452380952381,
          483.3452380952381,
          483.3452380952381,
          483.3452380952381,
          483.3452380952381,
          483.3452380952381,
          483.3452380952381,
          483.3452380952381,
          483.3452380952381,
          483.3452380952381,
          483.3452380952381,
          483.3452380952381,
          483.3452380952381,
          483.3452380952381,
          483.3452380952381,
          483.3452380952381,
          483.3452380952381,
          483.3452380952381,
          483.3452380952381,
          483.3452380952381,
          483.3452380952381,
          483.3452380952381,
          483.3452380952381,
          483.3452380952381,
          631,
          727,
          307,
          370,
          103,
          2138,
          4821,
          2025,
          452,
          2162,
          394,
          9854,
          483.3452380952381,
          483.3452380952381,
          483.3452380952381,
          483.3452380952381,
          483.3452380952381,
          483.3452380952381,
          483.3452380952381,
          483.3452380952381,
          483.3452380952381,
          483.3452380952381,
          483.3452380952381,
          483.3452380952381,
          483.3452380952381,
          483.3452380952381,
          483.3452380952381,
          483.3452380952381,
          483.3452380952381,
          483.3452380952381,
          483.3452380952381,
          483.3452380952381,
          483.3452380952381,
          483.3452380952381,
          483.3452380952381,
          483.3452380952381,
          483.3452380952381,
          483.3452380952381,
          483.3452380952381,
          483.3452380952381,
          483.3452380952381,
          483.3452380952381,
          483.3452380952381,
          483.3452380952381,
          483.3452380952381,
          483.3452380952381,
          483.3452380952381,
          483.3452380952381,
          483.3452380952381,
          483.3452380952381,
          483.3452380952381,
          483.3452380952381,
          483.3452380952381,
          483.3452380952381,
          483.3452380952381,
          483.3452380952381,
          483.3452380952381,
          483.3452380952381,
          483.3452380952381,
          483.3452380952381,
          483.3452380952381,
          483.3452380952381,
          483.3452380952381,
          483.3452380952381,
          483.3452380952381,
          483.3452380952381,
          483.3452380952381,
          483.3452380952381,
          483.3452380952381,
          483.3452380952381,
          483.3452380952381,
          483.3452380952381,
          483.3452380952381,
          483.3452380952381,
          483.3452380952381,
          483.3452380952381,
          483.3452380952381,
          483.3452380952381,
          483.3452380952381,
          483.3452380952381,
          483.3452380952381,
          483.3452380952381,
          483.3452380952381,
          483.3452380952381,
          483.3452380952381,
          483.3452380952381,
          483.3452380952381,
          483.3452380952381,
          483.3452380952381,
          483.3452380952381,
          483.3452380952381,
          483.3452380952381,
          483.3452380952381,
          483.3452380952381,
          483.3452380952381,
          483.3452380952381,
          483.3452380952381,
          483.3452380952381,
          483.3452380952381,
          483.3452380952381,
          483.3452380952381,
          483.3452380952381,
          483.3452380952381,
          483.3452380952381,
          483.3452380952381,
          483.3452380952381,
          483.3452380952381,
          483.3452380952381,
          483.3452380952381,
          483.3452380952381,
          483.3452380952381,
          483.3452380952381,
          483.3452380952381,
          483.3452380952381,
          483.3452380952381,
          483.3452380952381,
          483.3452380952381,
          483.3452380952381,
          483.3452380952381,
          483.3452380952381,
          483.3452380952381,
          483.3452380952381,
          483.3452380952381,
          483.3452380952381,
          483.3452380952381,
          483.3452380952381,
          9,
          73,
          28,
          37,
          3,
          151,
          483.3452380952381,
          483.3452380952381,
          483.3452380952381,
          483.3452380952381,
          483.3452380952381,
          483.3452380952381,
          492,
          291,
          55,
          231,
          82,
          1151,
          20,
          134,
          18,
          33,
          6,
          212,
          185,
          334,
          28,
          114,
          20,
          682,
          175,
          183,
          22,
          90,
          19,
          490,
          247,
          157,
          37,
          147,
          12,
          600,
          108,
          46,
          5,
          28,
          4,
          190,
          5,
          6,
          1,
          3,
          1,
          16,
          41,
          57,
          9,
          31,
          8,
          145,
          584,
          331,
          31,
          171,
          33,
          1151,
          3,
          2,
          0,
          1,
          0,
          5,
          30,
          17,
          2,
          8,
          1,
          59,
          1,
          1,
          0,
          0,
          0,
          3,
          5,
          2,
          0,
          1,
          0,
          8,
          21,
          13,
          1,
          6,
          1,
          42,
          75,
          40,
          3,
          20,
          0,
          138,
          1,
          1,
          0,
          0,
          0,
          2,
          165,
          100,
          8,
          51,
          5,
          329,
          0,
          23,
          8,
          5,
          2,
          38,
          0,
          28,
          15,
          9,
          2,
          54,
          483.3452380952381,
          483.3452380952381,
          483.3452380952381,
          483.3452380952381,
          483.3452380952381,
          483.3452380952381,
          483.3452380952381,
          483.3452380952381,
          483.3452380952381,
          483.3452380952381,
          483.3452380952381,
          483.3452380952381,
          483.3452380952381,
          483.3452380952381,
          483.3452380952381,
          483.3452380952381,
          483.3452380952381,
          483.3452380952381,
          483.3452380952381,
          483.3452380952381,
          483.3452380952381,
          483.3452380952381,
          483.3452380952381,
          483.3452380952381,
          483.3452380952381,
          483.3452380952381,
          483.3452380952381,
          483.3452380952381,
          483.3452380952381,
          483.3452380952381,
          483.3452380952381,
          483.3452380952381,
          483.3452380952381,
          483.3452380952381,
          483.3452380952381,
          483.3452380952381,
          483.3452380952381,
          483.3452380952381,
          483.3452380952381,
          483.3452380952381,
          483.3452380952381,
          483.3452380952381,
          483.3452380952381,
          483.3452380952381,
          483.3452380952381,
          483.3452380952381,
          483.3452380952381,
          483.3452380952381,
          483.3452380952381,
          483.3452380952381,
          483.3452380952381,
          483.3452380952381,
          483.3452380952381,
          483.3452380952381,
          483.3452380952381,
          483.3452380952381,
          483.3452380952381,
          483.3452380952381,
          483.3452380952381,
          483.3452380952381,
          483.3452380952381,
          483.3452380952381,
          483.3452380952381,
          483.3452380952381,
          483.3452380952381,
          483.3452380952381,
          483.3452380952381,
          483.3452380952381,
          483.3452380952381,
          483.3452380952381,
          483.3452380952381,
          483.3452380952381,
          483.3452380952381,
          483.3452380952381,
          483.3452380952381,
          483.3452380952381,
          483.3452380952381,
          483.3452380952381,
          483.3452380952381,
          483.3452380952381,
          483.3452380952381,
          483.3452380952381,
          483.3452380952381,
          483.3452380952381,
          483.3452380952381,
          483.3452380952381,
          483.3452380952381,
          483.3452380952381,
          483.3452380952381,
          483.3452380952381,
          483.3452380952381,
          483.3452380952381,
          483.3452380952381,
          483.3452380952381,
          483.3452380952381,
          483.3452380952381,
          483.3452380952381,
          483.3452380952381,
          483.3452380952381,
          483.3452380952381,
          483.3452380952381,
          483.3452380952381,
          483.3452380952381,
          483.3452380952381,
          483.3452380952381,
          483.3452380952381,
          483.3452380952381,
          483.3452380952381,
          483.3452380952381,
          483.3452380952381,
          483.3452380952381,
          483.3452380952381,
          483.3452380952381,
          483.3452380952381,
          483.3452380952381,
          483.3452380952381,
          483.3452380952381,
          483.3452380952381,
          483.3452380952381,
          483.3452380952381,
          1658,
          2040,
          796,
          1081,
          279,
          5854,
          12236,
          5478,
          1180,
          6260,
          1054,
          26209,
          483.3452380952381,
          483.3452380952381,
          483.3452380952381,
          483.3452380952381,
          483.3452380952381,
          483.3452380952381,
          483.3452380952381,
          483.3452380952381,
          483.3452380952381,
          483.3452380952381,
          483.3452380952381,
          483.3452380952381,
          483.3452380952381,
          483.3452380952381,
          483.3452380952381,
          483.3452380952381,
          483.3452380952381,
          483.3452380952381,
          483.3452380952381,
          483.3452380952381,
          483.3452380952381,
          483.3452380952381,
          483.3452380952381,
          483.3452380952381,
          483.3452380952381,
          483.3452380952381,
          483.3452380952381,
          483.3452380952381,
          483.3452380952381,
          483.3452380952381,
          483.3452380952381,
          483.3452380952381,
          483.3452380952381,
          483.3452380952381,
          483.3452380952381,
          483.3452380952381,
          483.3452380952381,
          483.3452380952381,
          483.3452380952381,
          483.3452380952381,
          483.3452380952381,
          483.3452380952381,
          483.3452380952381,
          483.3452380952381,
          483.3452380952381,
          483.3452380952381,
          483.3452380952381,
          483.3452380952381,
          483.3452380952381,
          483.3452380952381,
          483.3452380952381,
          483.3452380952381,
          483.3452380952381,
          483.3452380952381,
          483.3452380952381,
          483.3452380952381,
          483.3452380952381,
          483.3452380952381,
          483.3452380952381,
          483.3452380952381,
          483.3452380952381,
          483.3452380952381,
          483.3452380952381,
          483.3452380952381,
          483.3452380952381,
          483.3452380952381,
          483.3452380952381,
          483.3452380952381,
          483.3452380952381,
          483.3452380952381,
          483.3452380952381,
          483.3452380952381,
          483.3452380952381,
          483.3452380952381,
          483.3452380952381,
          483.3452380952381,
          483.3452380952381,
          483.3452380952381,
          483.3452380952381,
          483.3452380952381,
          483.3452380952381,
          483.3452380952381,
          483.3452380952381,
          483.3452380952381,
          483.3452380952381,
          483.3452380952381,
          483.3452380952381,
          483.3452380952381,
          483.3452380952381,
          483.3452380952381,
          483.3452380952381,
          483.3452380952381,
          483.3452380952381,
          483.3452380952381,
          483.3452380952381,
          483.3452380952381,
          483.3452380952381,
          483.3452380952381,
          483.3452380952381,
          483.3452380952381,
          483.3452380952381,
          483.3452380952381,
          483.3452380952381,
          483.3452380952381,
          483.3452380952381,
          483.3452380952381,
          483.3452380952381,
          483.3452380952381,
          483.3452380952381,
          483.3452380952381,
          483.3452380952381,
          483.3452380952381,
          483.3452380952381,
          483.3452380952381,
          22,
          204,
          72,
          110,
          9,
          417,
          483.3452380952381,
          483.3452380952381,
          483.3452380952381,
          483.3452380952381,
          483.3452380952381,
          483.3452380952381,
          1254,
          784,
          140,
          650,
          213,
          3041,
          52,
          374,
          45,
          94,
          17,
          582,
          481,
          903,
          72,
          326,
          50,
          1832,
          448,
          525,
          57,
          250,
          51,
          1331,
          624,
          416,
          94,
          414,
          32,
          1580,
          276,
          127,
          14,
          79,
          10,
          505,
          14,
          18,
          3,
          9,
          2,
          46,
          105,
          161,
          22,
          86,
          21,
          395,
          1480,
          885,
          80,
          480,
          85,
          3012,
          7,
          5,
          0,
          2,
          0,
          14,
          75,
          45,
          5,
          23,
          4,
          151,
          4,
          2,
          0,
          1,
          0,
          8,
          12,
          6,
          0,
          3,
          1,
          21,
          54,
          36,
          4,
          16,
          3,
          112,
          190,
          105,
          9,
          54,
          1,
          358,
          2,
          2,
          0,
          1,
          0,
          5,
          444,
          275,
          22,
          142,
          14,
          898,
          0,
          66,
          20,
          14,
          4,
          105,
          0,
          77,
          39,
          27,
          5,
          148,
          483.3452380952381,
          483.3452380952381,
          483.3452380952381,
          483.3452380952381,
          483.3452380952381,
          483.3452380952381,
          483.3452380952381,
          483.3452380952381,
          483.3452380952381,
          483.3452380952381,
          483.3452380952381,
          483.3452380952381,
          483.3452380952381,
          483.3452380952381,
          483.3452380952381,
          483.3452380952381,
          483.3452380952381,
          483.3452380952381,
          483.3452380952381,
          483.3452380952381,
          483.3452380952381,
          483.3452380952381,
          483.3452380952381,
          483.3452380952381,
          483.3452380952381,
          483.3452380952381,
          483.3452380952381,
          483.3452380952381,
          483.3452380952381,
          483.3452380952381,
          483.3452380952381,
          483.3452380952381,
          483.3452380952381,
          483.3452380952381,
          483.3452380952381,
          483.3452380952381,
          483.3452380952381,
          483.3452380952381,
          483.3452380952381,
          483.3452380952381,
          483.3452380952381,
          483.3452380952381,
          483.3452380952381,
          483.3452380952381,
          483.3452380952381,
          483.3452380952381,
          483.3452380952381,
          483.3452380952381,
          483.3452380952381,
          483.3452380952381,
          483.3452380952381,
          483.3452380952381,
          483.3452380952381,
          483.3452380952381,
          483.3452380952381,
          483.3452380952381,
          483.3452380952381,
          483.3452380952381,
          483.3452380952381,
          483.3452380952381,
          483.3452380952381,
          483.3452380952381,
          483.3452380952381,
          483.3452380952381,
          483.3452380952381,
          483.3452380952381,
          483.3452380952381,
          483.3452380952381,
          483.3452380952381,
          483.3452380952381,
          483.3452380952381,
          483.3452380952381,
          483.3452380952381,
          483.3452380952381,
          483.3452380952381,
          483.3452380952381,
          483.3452380952381,
          483.3452380952381,
          483.3452380952381,
          483.3452380952381,
          483.3452380952381,
          483.3452380952381,
          483.3452380952381,
          483.3452380952381,
          483.3452380952381,
          483.3452380952381,
          483.3452380952381,
          483.3452380952381
         ],
         "yaxis": "y"
        }
       ],
       "layout": {
        "legend": {
         "tracegroupgap": 0
        },
        "template": {
         "data": {
          "bar": [
           {
            "error_x": {
             "color": "#2a3f5f"
            },
            "error_y": {
             "color": "#2a3f5f"
            },
            "marker": {
             "line": {
              "color": "#E5ECF6",
              "width": 0.5
             },
             "pattern": {
              "fillmode": "overlay",
              "size": 10,
              "solidity": 0.2
             }
            },
            "type": "bar"
           }
          ],
          "barpolar": [
           {
            "marker": {
             "line": {
              "color": "#E5ECF6",
              "width": 0.5
             },
             "pattern": {
              "fillmode": "overlay",
              "size": 10,
              "solidity": 0.2
             }
            },
            "type": "barpolar"
           }
          ],
          "carpet": [
           {
            "aaxis": {
             "endlinecolor": "#2a3f5f",
             "gridcolor": "white",
             "linecolor": "white",
             "minorgridcolor": "white",
             "startlinecolor": "#2a3f5f"
            },
            "baxis": {
             "endlinecolor": "#2a3f5f",
             "gridcolor": "white",
             "linecolor": "white",
             "minorgridcolor": "white",
             "startlinecolor": "#2a3f5f"
            },
            "type": "carpet"
           }
          ],
          "choropleth": [
           {
            "colorbar": {
             "outlinewidth": 0,
             "ticks": ""
            },
            "type": "choropleth"
           }
          ],
          "contour": [
           {
            "colorbar": {
             "outlinewidth": 0,
             "ticks": ""
            },
            "colorscale": [
             [
              0,
              "#0d0887"
             ],
             [
              0.1111111111111111,
              "#46039f"
             ],
             [
              0.2222222222222222,
              "#7201a8"
             ],
             [
              0.3333333333333333,
              "#9c179e"
             ],
             [
              0.4444444444444444,
              "#bd3786"
             ],
             [
              0.5555555555555556,
              "#d8576b"
             ],
             [
              0.6666666666666666,
              "#ed7953"
             ],
             [
              0.7777777777777778,
              "#fb9f3a"
             ],
             [
              0.8888888888888888,
              "#fdca26"
             ],
             [
              1,
              "#f0f921"
             ]
            ],
            "type": "contour"
           }
          ],
          "contourcarpet": [
           {
            "colorbar": {
             "outlinewidth": 0,
             "ticks": ""
            },
            "type": "contourcarpet"
           }
          ],
          "heatmap": [
           {
            "colorbar": {
             "outlinewidth": 0,
             "ticks": ""
            },
            "colorscale": [
             [
              0,
              "#0d0887"
             ],
             [
              0.1111111111111111,
              "#46039f"
             ],
             [
              0.2222222222222222,
              "#7201a8"
             ],
             [
              0.3333333333333333,
              "#9c179e"
             ],
             [
              0.4444444444444444,
              "#bd3786"
             ],
             [
              0.5555555555555556,
              "#d8576b"
             ],
             [
              0.6666666666666666,
              "#ed7953"
             ],
             [
              0.7777777777777778,
              "#fb9f3a"
             ],
             [
              0.8888888888888888,
              "#fdca26"
             ],
             [
              1,
              "#f0f921"
             ]
            ],
            "type": "heatmap"
           }
          ],
          "heatmapgl": [
           {
            "colorbar": {
             "outlinewidth": 0,
             "ticks": ""
            },
            "colorscale": [
             [
              0,
              "#0d0887"
             ],
             [
              0.1111111111111111,
              "#46039f"
             ],
             [
              0.2222222222222222,
              "#7201a8"
             ],
             [
              0.3333333333333333,
              "#9c179e"
             ],
             [
              0.4444444444444444,
              "#bd3786"
             ],
             [
              0.5555555555555556,
              "#d8576b"
             ],
             [
              0.6666666666666666,
              "#ed7953"
             ],
             [
              0.7777777777777778,
              "#fb9f3a"
             ],
             [
              0.8888888888888888,
              "#fdca26"
             ],
             [
              1,
              "#f0f921"
             ]
            ],
            "type": "heatmapgl"
           }
          ],
          "histogram": [
           {
            "marker": {
             "pattern": {
              "fillmode": "overlay",
              "size": 10,
              "solidity": 0.2
             }
            },
            "type": "histogram"
           }
          ],
          "histogram2d": [
           {
            "colorbar": {
             "outlinewidth": 0,
             "ticks": ""
            },
            "colorscale": [
             [
              0,
              "#0d0887"
             ],
             [
              0.1111111111111111,
              "#46039f"
             ],
             [
              0.2222222222222222,
              "#7201a8"
             ],
             [
              0.3333333333333333,
              "#9c179e"
             ],
             [
              0.4444444444444444,
              "#bd3786"
             ],
             [
              0.5555555555555556,
              "#d8576b"
             ],
             [
              0.6666666666666666,
              "#ed7953"
             ],
             [
              0.7777777777777778,
              "#fb9f3a"
             ],
             [
              0.8888888888888888,
              "#fdca26"
             ],
             [
              1,
              "#f0f921"
             ]
            ],
            "type": "histogram2d"
           }
          ],
          "histogram2dcontour": [
           {
            "colorbar": {
             "outlinewidth": 0,
             "ticks": ""
            },
            "colorscale": [
             [
              0,
              "#0d0887"
             ],
             [
              0.1111111111111111,
              "#46039f"
             ],
             [
              0.2222222222222222,
              "#7201a8"
             ],
             [
              0.3333333333333333,
              "#9c179e"
             ],
             [
              0.4444444444444444,
              "#bd3786"
             ],
             [
              0.5555555555555556,
              "#d8576b"
             ],
             [
              0.6666666666666666,
              "#ed7953"
             ],
             [
              0.7777777777777778,
              "#fb9f3a"
             ],
             [
              0.8888888888888888,
              "#fdca26"
             ],
             [
              1,
              "#f0f921"
             ]
            ],
            "type": "histogram2dcontour"
           }
          ],
          "mesh3d": [
           {
            "colorbar": {
             "outlinewidth": 0,
             "ticks": ""
            },
            "type": "mesh3d"
           }
          ],
          "parcoords": [
           {
            "line": {
             "colorbar": {
              "outlinewidth": 0,
              "ticks": ""
             }
            },
            "type": "parcoords"
           }
          ],
          "pie": [
           {
            "automargin": true,
            "type": "pie"
           }
          ],
          "scatter": [
           {
            "fillpattern": {
             "fillmode": "overlay",
             "size": 10,
             "solidity": 0.2
            },
            "type": "scatter"
           }
          ],
          "scatter3d": [
           {
            "line": {
             "colorbar": {
              "outlinewidth": 0,
              "ticks": ""
             }
            },
            "marker": {
             "colorbar": {
              "outlinewidth": 0,
              "ticks": ""
             }
            },
            "type": "scatter3d"
           }
          ],
          "scattercarpet": [
           {
            "marker": {
             "colorbar": {
              "outlinewidth": 0,
              "ticks": ""
             }
            },
            "type": "scattercarpet"
           }
          ],
          "scattergeo": [
           {
            "marker": {
             "colorbar": {
              "outlinewidth": 0,
              "ticks": ""
             }
            },
            "type": "scattergeo"
           }
          ],
          "scattergl": [
           {
            "marker": {
             "colorbar": {
              "outlinewidth": 0,
              "ticks": ""
             }
            },
            "type": "scattergl"
           }
          ],
          "scattermapbox": [
           {
            "marker": {
             "colorbar": {
              "outlinewidth": 0,
              "ticks": ""
             }
            },
            "type": "scattermapbox"
           }
          ],
          "scatterpolar": [
           {
            "marker": {
             "colorbar": {
              "outlinewidth": 0,
              "ticks": ""
             }
            },
            "type": "scatterpolar"
           }
          ],
          "scatterpolargl": [
           {
            "marker": {
             "colorbar": {
              "outlinewidth": 0,
              "ticks": ""
             }
            },
            "type": "scatterpolargl"
           }
          ],
          "scatterternary": [
           {
            "marker": {
             "colorbar": {
              "outlinewidth": 0,
              "ticks": ""
             }
            },
            "type": "scatterternary"
           }
          ],
          "surface": [
           {
            "colorbar": {
             "outlinewidth": 0,
             "ticks": ""
            },
            "colorscale": [
             [
              0,
              "#0d0887"
             ],
             [
              0.1111111111111111,
              "#46039f"
             ],
             [
              0.2222222222222222,
              "#7201a8"
             ],
             [
              0.3333333333333333,
              "#9c179e"
             ],
             [
              0.4444444444444444,
              "#bd3786"
             ],
             [
              0.5555555555555556,
              "#d8576b"
             ],
             [
              0.6666666666666666,
              "#ed7953"
             ],
             [
              0.7777777777777778,
              "#fb9f3a"
             ],
             [
              0.8888888888888888,
              "#fdca26"
             ],
             [
              1,
              "#f0f921"
             ]
            ],
            "type": "surface"
           }
          ],
          "table": [
           {
            "cells": {
             "fill": {
              "color": "#EBF0F8"
             },
             "line": {
              "color": "white"
             }
            },
            "header": {
             "fill": {
              "color": "#C8D4E3"
             },
             "line": {
              "color": "white"
             }
            },
            "type": "table"
           }
          ]
         },
         "layout": {
          "annotationdefaults": {
           "arrowcolor": "#2a3f5f",
           "arrowhead": 0,
           "arrowwidth": 1
          },
          "autotypenumbers": "strict",
          "coloraxis": {
           "colorbar": {
            "outlinewidth": 0,
            "ticks": ""
           }
          },
          "colorscale": {
           "diverging": [
            [
             0,
             "#8e0152"
            ],
            [
             0.1,
             "#c51b7d"
            ],
            [
             0.2,
             "#de77ae"
            ],
            [
             0.3,
             "#f1b6da"
            ],
            [
             0.4,
             "#fde0ef"
            ],
            [
             0.5,
             "#f7f7f7"
            ],
            [
             0.6,
             "#e6f5d0"
            ],
            [
             0.7,
             "#b8e186"
            ],
            [
             0.8,
             "#7fbc41"
            ],
            [
             0.9,
             "#4d9221"
            ],
            [
             1,
             "#276419"
            ]
           ],
           "sequential": [
            [
             0,
             "#0d0887"
            ],
            [
             0.1111111111111111,
             "#46039f"
            ],
            [
             0.2222222222222222,
             "#7201a8"
            ],
            [
             0.3333333333333333,
             "#9c179e"
            ],
            [
             0.4444444444444444,
             "#bd3786"
            ],
            [
             0.5555555555555556,
             "#d8576b"
            ],
            [
             0.6666666666666666,
             "#ed7953"
            ],
            [
             0.7777777777777778,
             "#fb9f3a"
            ],
            [
             0.8888888888888888,
             "#fdca26"
            ],
            [
             1,
             "#f0f921"
            ]
           ],
           "sequentialminus": [
            [
             0,
             "#0d0887"
            ],
            [
             0.1111111111111111,
             "#46039f"
            ],
            [
             0.2222222222222222,
             "#7201a8"
            ],
            [
             0.3333333333333333,
             "#9c179e"
            ],
            [
             0.4444444444444444,
             "#bd3786"
            ],
            [
             0.5555555555555556,
             "#d8576b"
            ],
            [
             0.6666666666666666,
             "#ed7953"
            ],
            [
             0.7777777777777778,
             "#fb9f3a"
            ],
            [
             0.8888888888888888,
             "#fdca26"
            ],
            [
             1,
             "#f0f921"
            ]
           ]
          },
          "colorway": [
           "#636efa",
           "#EF553B",
           "#00cc96",
           "#ab63fa",
           "#FFA15A",
           "#19d3f3",
           "#FF6692",
           "#B6E880",
           "#FF97FF",
           "#FECB52"
          ],
          "font": {
           "color": "#2a3f5f"
          },
          "geo": {
           "bgcolor": "white",
           "lakecolor": "white",
           "landcolor": "#E5ECF6",
           "showlakes": true,
           "showland": true,
           "subunitcolor": "white"
          },
          "hoverlabel": {
           "align": "left"
          },
          "hovermode": "closest",
          "mapbox": {
           "style": "light"
          },
          "paper_bgcolor": "white",
          "plot_bgcolor": "#E5ECF6",
          "polar": {
           "angularaxis": {
            "gridcolor": "white",
            "linecolor": "white",
            "ticks": ""
           },
           "bgcolor": "#E5ECF6",
           "radialaxis": {
            "gridcolor": "white",
            "linecolor": "white",
            "ticks": ""
           }
          },
          "scene": {
           "xaxis": {
            "backgroundcolor": "#E5ECF6",
            "gridcolor": "white",
            "gridwidth": 2,
            "linecolor": "white",
            "showbackground": true,
            "ticks": "",
            "zerolinecolor": "white"
           },
           "yaxis": {
            "backgroundcolor": "#E5ECF6",
            "gridcolor": "white",
            "gridwidth": 2,
            "linecolor": "white",
            "showbackground": true,
            "ticks": "",
            "zerolinecolor": "white"
           },
           "zaxis": {
            "backgroundcolor": "#E5ECF6",
            "gridcolor": "white",
            "gridwidth": 2,
            "linecolor": "white",
            "showbackground": true,
            "ticks": "",
            "zerolinecolor": "white"
           }
          },
          "shapedefaults": {
           "line": {
            "color": "#2a3f5f"
           }
          },
          "ternary": {
           "aaxis": {
            "gridcolor": "white",
            "linecolor": "white",
            "ticks": ""
           },
           "baxis": {
            "gridcolor": "white",
            "linecolor": "white",
            "ticks": ""
           },
           "bgcolor": "#E5ECF6",
           "caxis": {
            "gridcolor": "white",
            "linecolor": "white",
            "ticks": ""
           }
          },
          "title": {
           "x": 0.05
          },
          "xaxis": {
           "automargin": true,
           "gridcolor": "white",
           "linecolor": "white",
           "ticks": "",
           "title": {
            "standoff": 15
           },
           "zerolinecolor": "white",
           "zerolinewidth": 2
          },
          "yaxis": {
           "automargin": true,
           "gridcolor": "white",
           "linecolor": "white",
           "ticks": "",
           "title": {
            "standoff": 15
           },
           "zerolinecolor": "white",
           "zerolinewidth": 2
          }
         }
        },
        "title": {
         "text": "Scatter plot of 'in Mn dollars' vs. 'Employment (in 000)'",
         "x": 0.5,
         "y": 0.95
        },
        "xaxis": {
         "anchor": "y",
         "domain": [
          0,
          1
         ],
         "title": {
          "text": " in Mn dollars "
         }
        },
        "yaxis": {
         "anchor": "x",
         "domain": [
          0,
          1
         ],
         "title": {
          "text": "Employment (in 000)"
         }
        }
       }
      }
     },
     "metadata": {},
     "output_type": "display_data"
    }
   ],
   "source": [
    "fig = px.scatter(df, x=' in Mn dollars ', y='Employment (in 000)', title=\"Scatter plot of 'in Mn dollars' vs. 'Employment (in 000)'\")\n",
    "fig.update_layout(\n",
    "    title_x=0.5,\n",
    "    title_y=0.95\n",
    ")\n",
    "fig.show()"
   ]
  },
  {
   "cell_type": "markdown",
   "metadata": {},
   "source": [
    "Which country has the highest economy?"
   ]
  },
  {
   "cell_type": "code",
   "execution_count": 16,
   "metadata": {},
   "outputs": [
    {
     "name": "stdout",
     "output_type": "stream",
     "text": [
      "USA : 493064243.04\n"
     ]
    }
   ],
   "source": [
    "maximum_gdp=new_df[\"Country 2020 GDP\"].max()\n",
    "for i in range(len(new_df[\"Country 2020 GDP\"])):\n",
    "    if new_df[\"Country 2020 GDP\"][i]==maximum_gdp:\n",
    "        x=i\n",
    "        \n",
    "print(new_df.index[x],\":\",maximum_gdp)"
   ]
  },
  {
   "cell_type": "markdown",
   "metadata": {},
   "source": [
    "<h1 align=center>Model</h1>"
   ]
  },
  {
   "cell_type": "code",
   "execution_count": 17,
   "metadata": {},
   "outputs": [],
   "source": [
    "Y=df[\"Country 2020 GDP\"]\n",
    "X=df[[\" in Mn dollars \",\"Employment (in 000)\"]]"
   ]
  },
  {
   "cell_type": "code",
   "execution_count": 18,
   "metadata": {},
   "outputs": [
    {
     "data": {
      "text/plain": [
       "Index(['Economy', 'ADB Country Code', 'Sector', 'Country 2020 GDP', 'Scenario',\n",
       "       'as % of total GDP', ' in Mn dollars ', 'Employment (in 000)',\n",
       "       'as % of sector GDP', 'as % of sector employment'],\n",
       "      dtype='object')"
      ]
     },
     "execution_count": 18,
     "metadata": {},
     "output_type": "execute_result"
    }
   ],
   "source": [
    "df.columns"
   ]
  },
  {
   "cell_type": "code",
   "execution_count": 19,
   "metadata": {},
   "outputs": [],
   "source": [
    "X_train, X_test, Y_train, Y_test = train_test_split(X, Y, test_size=0.2, random_state=42)"
   ]
  },
  {
   "cell_type": "markdown",
   "metadata": {},
   "source": [
    "Linear regression"
   ]
  },
  {
   "cell_type": "code",
   "execution_count": 20,
   "metadata": {},
   "outputs": [
    {
     "name": "stdout",
     "output_type": "stream",
     "text": [
      "Linear Regression RMSE: 3188274.1714821393\n"
     ]
    }
   ],
   "source": [
    "lin_reg = LinearRegression()\n",
    "lin_reg.fit(X_train, Y_train)\n",
    "\n",
    "Y_pred_lin = lin_reg.predict(X_test)\n",
    "\n",
    "rmse_lin = np.sqrt(mean_squared_error(Y_test, Y_pred_lin))\n",
    "\n",
    "r2_score_lin = r2_score(Y_test, Y_pred_lin)\n",
    "\n",
    "print(\"Linear Regression RMSE:\", rmse_lin)"
   ]
  },
  {
   "cell_type": "markdown",
   "metadata": {},
   "source": [
    "Gaussian Process Regression"
   ]
  },
  {
   "cell_type": "code",
   "execution_count": 21,
   "metadata": {},
   "outputs": [
    {
     "name": "stdout",
     "output_type": "stream",
     "text": [
      "Gaussian Process Regression RMSE: 3551362.4835555134\n"
     ]
    }
   ],
   "source": [
    "from sklearn.gaussian_process.kernels import Matern\n",
    "from sklearn.gaussian_process import GaussianProcessRegressor\n",
    "\n",
    "kernel = Matern(length_scale=1.0, length_scale_bounds=(1e-3, 1e3), nu=2.5)\n",
    "\n",
    "gp_reg = GaussianProcessRegressor(kernel=kernel, n_restarts_optimizer=15, random_state=30)\n",
    "\n",
    "gp_reg.fit(X_train, Y_train)\n",
    "\n",
    "Y_pred_gp, sigma = gp_reg.predict(X_test, return_std=True)\n",
    "rmse_gp = np.sqrt(mean_squared_error(Y_test, Y_pred_gp))\n",
    "r2_score_gp = r2_score(Y_test, Y_pred_gp)\n",
    "\n",
    "print(\"Gaussian Process Regression RMSE:\", rmse_gp)"
   ]
  },
  {
   "cell_type": "markdown",
   "metadata": {},
   "source": [
    "Random Forest Regressor"
   ]
  },
  {
   "cell_type": "code",
   "execution_count": 22,
   "metadata": {},
   "outputs": [
    {
     "name": "stdout",
     "output_type": "stream",
     "text": [
      "Random Forest Regression RMSE: 2966133.385068853\n"
     ]
    }
   ],
   "source": [
    "rf_reg = RandomForestRegressor(n_estimators = 80,max_depth=50,n_jobs=30)\n",
    "rf_reg.fit(X_train, Y_train)\n",
    "Y_pred_rf = rf_reg.predict(X_test)\n",
    "rmse_rf = np.sqrt(mean_squared_error(Y_test, Y_pred_rf))\n",
    "r2_score_rf = rf_reg.score(X_test, Y_test)\n",
    "\n",
    "print(\"Random Forest Regression RMSE:\", rmse_rf)"
   ]
  },
  {
   "cell_type": "code",
   "execution_count": 23,
   "metadata": {},
   "outputs": [],
   "source": [
    "with open(\"model.pkl\",\"wb\") as file:\n",
    "    pk.dump(rf_reg,file)"
   ]
  }
 ],
 "metadata": {
  "kernelspec": {
   "display_name": "Python 3",
   "language": "python",
   "name": "python3"
  },
  "language_info": {
   "codemirror_mode": {
    "name": "ipython",
    "version": 3
   },
   "file_extension": ".py",
   "mimetype": "text/x-python",
   "name": "python",
   "nbconvert_exporter": "python",
   "pygments_lexer": "ipython3",
   "version": "3.11.6"
  }
 },
 "nbformat": 4,
 "nbformat_minor": 2
}
